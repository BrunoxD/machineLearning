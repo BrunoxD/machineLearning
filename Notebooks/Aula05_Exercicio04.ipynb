{
  "nbformat": 4,
  "nbformat_minor": 0,
  "metadata": {
    "colab": {
      "name": "Aula05-Exercicio04.ipynb",
      "version": "0.3.2",
      "provenance": [],
      "collapsed_sections": []
    },
    "kernelspec": {
      "name": "python3",
      "display_name": "Python 3"
    }
  },
  "cells": [
    {
      "metadata": {
        "id": "B6pycK2JFh1I",
        "colab_type": "text"
      },
      "cell_type": "markdown",
      "source": [
        "# Aula 05 - Exercício 04\n",
        "\n",
        "### Alunos:\n",
        " - Bruno Gomes Coelho       - 9791160\n",
        " - Bruno Mendes da Costa - 9779433\n",
        " "
      ]
    },
    {
      "metadata": {
        "id": "k3WZFH0dZpgR",
        "colab_type": "code",
        "outputId": "e380e5f1-c379-42b6-9110-d8d205c62a85",
        "colab": {
          "base_uri": "https://localhost:8080/",
          "height": 121
        }
      },
      "cell_type": "code",
      "source": [
        "!git clone https://github.com/BrunoXD/MachineLearning"
      ],
      "execution_count": 1,
      "outputs": [
        {
          "output_type": "stream",
          "text": [
            "Cloning into 'MachineLearning'...\n",
            "remote: Enumerating objects: 9, done.\u001b[K\n",
            "remote: Counting objects:  11% (1/9)   \u001b[K\rremote: Counting objects:  22% (2/9)   \u001b[K\rremote: Counting objects:  33% (3/9)   \u001b[K\rremote: Counting objects:  44% (4/9)   \u001b[K\rremote: Counting objects:  55% (5/9)   \u001b[K\rremote: Counting objects:  66% (6/9)   \u001b[K\rremote: Counting objects:  77% (7/9)   \u001b[K\rremote: Counting objects:  88% (8/9)   \u001b[K\rremote: Counting objects: 100% (9/9)   \u001b[K\rremote: Counting objects: 100% (9/9), done.\u001b[K\n",
            "remote: Compressing objects:  11% (1/9)   \u001b[K\rremote: Compressing objects:  22% (2/9)   \u001b[K\rremote: Compressing objects:  33% (3/9)   \u001b[K\rremote: Compressing objects:  44% (4/9)   \u001b[K\rremote: Compressing objects:  55% (5/9)   \u001b[K\rremote: Compressing objects:  66% (6/9)   \u001b[K\rremote: Compressing objects:  77% (7/9)   \u001b[K\rremote: Compressing objects:  88% (8/9)   \u001b[K\rremote: Compressing objects: 100% (9/9)   \u001b[K\rremote: Compressing objects: 100% (9/9), done.\u001b[K\n",
            "Unpacking objects:  11% (1/9)   \rUnpacking objects:  22% (2/9)   \rUnpacking objects:  33% (3/9)   \rUnpacking objects:  44% (4/9)   \rUnpacking objects:  55% (5/9)   \rremote: Total 9 (delta 0), reused 0 (delta 0), pack-reused 0\u001b[K\n",
            "Unpacking objects:  66% (6/9)   \rUnpacking objects:  77% (7/9)   \rUnpacking objects:  88% (8/9)   \rUnpacking objects: 100% (9/9)   \rUnpacking objects: 100% (9/9), done.\n"
          ],
          "name": "stdout"
        }
      ]
    },
    {
      "metadata": {
        "id": "x1tqfoAQZyio",
        "colab_type": "code",
        "outputId": "45d3a206-5cd3-4fa6-9b65-dc6c3711066d",
        "colab": {
          "base_uri": "https://localhost:8080/",
          "height": 34
        }
      },
      "cell_type": "code",
      "source": [
        "%cd MachineLearning/"
      ],
      "execution_count": 2,
      "outputs": [
        {
          "output_type": "stream",
          "text": [
            "/content/MachineLearning\n"
          ],
          "name": "stdout"
        }
      ]
    },
    {
      "metadata": {
        "id": "SsB2hbjQZ3Fu",
        "colab_type": "code",
        "outputId": "c4be6264-cd3d-4089-8d12-64ef201f22d6",
        "colab": {
          "base_uri": "https://localhost:8080/",
          "height": 52
        }
      },
      "cell_type": "code",
      "source": [
        "!ls"
      ],
      "execution_count": 3,
      "outputs": [
        {
          "output_type": "stream",
          "text": [
            "Aula05-Exercicio04.ipynb  query0.png  query2.png  V.png\n",
            "inv_V.png\t\t  query1.png  query4.png\n"
          ],
          "name": "stdout"
        }
      ]
    },
    {
      "metadata": {
        "id": "Edrz0weR9EkM",
        "colab_type": "text"
      },
      "cell_type": "markdown",
      "source": [
        "## Perceptron e Data augmentation \n",
        "Neste exercicio utilizaremos o classificador Perceptron para classificar dois dígitos. No código abaixo os dois digitos são carregados e exibidos lado a lado."
      ]
    },
    {
      "metadata": {
        "id": "o_vJvAyWwzCA",
        "colab_type": "code",
        "outputId": "9958f90b-86eb-4948-cc91-1a81334d2b48",
        "colab": {
          "base_uri": "https://localhost:8080/",
          "height": 251
        }
      },
      "cell_type": "code",
      "source": [
        "from skimage.io import imread\n",
        "from matplotlib import pyplot as plt\n",
        "\n",
        "SEED = 42\n",
        "\n",
        "# Lendo as duas imagens originais\n",
        "V = imread(\"V.png\", as_grey=True)\n",
        "V_inv = imread(\"inv_V.png\", as_grey=True)\n",
        "\n",
        "# Figura vai ter 1 linha e 2 colunas\n",
        "rows = 1\n",
        "columns = 2\n",
        "fig = plt.figure(figsize=(8, 8))\n",
        "\n",
        "# Exibindo primeira imagem\n",
        "fig.add_subplot(rows, columns, 1)\n",
        "plt.grid(False)\n",
        "plt.imshow(V)\n",
        "\n",
        "# Exibindo segunda imagem\n",
        "fig.add_subplot(rows, columns, 2)\n",
        "plt.grid(False)\n",
        "plt.imshow(V_inv)\n",
        "plt.show()"
      ],
      "execution_count": 4,
      "outputs": [
        {
          "output_type": "display_data",
          "data": {
            "image/png": "[encoded data removed]",
            "text/plain": [
              "<Figure size 576x576 with 2 Axes>"
            ]
          },
          "metadata": {
            "tags": []
          }
        }
      ]
    },
    {
      "metadata": {
        "id": "nP7SreIS_w5E",
        "colab_type": "text"
      },
      "cell_type": "markdown",
      "source": [
        "\n",
        "\n",
        "---\n",
        "\n",
        "- Dado o código acima, aplique ruído (random_nosie) no primeiro símbolo e rotacione (transform.rotate) em 25º o segundo símbolo antes de exibi-los.\n",
        "  - Dica: Para o `random_noise` utilize parametro `mode='pepper' ` e  para `transform.rotate` utilize `preserve_range=True, mode='constant', cval=1`"
      ]
    },
    {
      "metadata": {
        "id": "DYTrwfNoEyHe",
        "colab_type": "code",
        "outputId": "2ca2f34e-9940-496f-9d0a-961c2fda6918",
        "colab": {
          "base_uri": "https://localhost:8080/",
          "height": 283
        }
      },
      "cell_type": "code",
      "source": [
        "from skimage.util import random_noise\n",
        "from skimage import transform\n",
        "\n",
        "\n",
        "fig = plt.figure(figsize=(8, 8))\n",
        "\n",
        "# Exibindo primeira imagem\n",
        "fig.add_subplot(1, 2, 1)\n",
        "plt.grid(False)\n",
        "plt.imshow(random_noise(V, mode=\"pepper\", seed=42))\n",
        "plt.title(\"Com ruido\")\n",
        "\n",
        "# Exibindo segunda imagem\n",
        "fig.add_subplot(1, 2, 2)\n",
        "plt.grid(False)\n",
        "plt.imshow(transform.rotate(V_inv, angle=25, mode=\"constant\", cval=1, preserve_range=True))\n",
        "plt.title(\"Rotacionada\")"
      ],
      "execution_count": 5,
      "outputs": [
        {
          "output_type": "execute_result",
          "data": {
            "text/plain": [
              "Text(0.5, 1.0, 'Rotacionada')"
            ]
          },
          "metadata": {
            "tags": []
          },
          "execution_count": 5
        },
        {
          "output_type": "display_data",
          "data": {
            "image/png": "[encoded data removed]",
            "text/plain": [
              "<Figure size 576x576 with 2 Axes>"
            ]
          },
          "metadata": {
            "tags": []
          }
        }
      ]
    },
    {
      "metadata": {
        "id": "WmxRTXAdBQU7",
        "colab_type": "text"
      },
      "cell_type": "markdown",
      "source": [
        "\n",
        "\n",
        "---\n",
        "\n",
        "- Agora defina a função `gen_data` abaixo. A função recebe como parâmetros: uma imagem base (v ou v invertido), a quantidade de dados artificiais a serem gerados, a classe da imagem base passada e uma lista de dados e labels. A função deve concatenar (`append`) as imagens geradas na lista `data` e suas respectivas classes na lista `target`.\n",
        "\n",
        "  - Dica: Utilize a função `random.uniform(-a, a)` para gerar valores aleatórios entre -a e a para criar angulos de rotação variados.\n",
        "  - Dica: Utilize valores diferentes para o parâmetro `seed` do random_noise para produzir resultados diferentes"
      ]
    },
    {
      "metadata": {
        "id": "ZMwwCM6TgdB1",
        "colab_type": "code",
        "colab": {}
      },
      "cell_type": "code",
      "source": [
        "import random\n",
        "\n",
        "random.seed(SEED)\n"
      ],
      "execution_count": 0,
      "outputs": []
    },
    {
      "metadata": {
        "id": "EZ6MAsBG121k",
        "colab_type": "code",
        "colab": {}
      },
      "cell_type": "code",
      "source": [
        "def gen_data(base_image, quantity, label, data, target):\n",
        "    MAX_ANGLE = 25\n",
        "    \n",
        "    for _ in range(quantity):\n",
        "        angle = random.uniform(-MAX_ANGLE, MAX_ANGLE)\n",
        "        new_img = transform.rotate(base_image, angle=angle, mode=\"constant\", \n",
        "                                   cval=1, preserve_range=True)\n",
        "        new_img = random_noise(new_img, mode=\"pepper\", seed=random.randint(0, 10000))\n",
        "        data.append(new_img)\n",
        "        target.append(label)\n",
        "        "
      ],
      "execution_count": 0,
      "outputs": []
    },
    {
      "metadata": {
        "id": "w4jaRJrBDbYp",
        "colab_type": "text"
      },
      "cell_type": "markdown",
      "source": [
        "\n",
        "\n",
        "---\n",
        "\n",
        "\n",
        "- Edite a linha abaixo do comentário para exibir uma imagem 4x4 do dataset criado acima."
      ]
    },
    {
      "metadata": {
        "id": "U-ds_v6X2X10",
        "colab_type": "code",
        "outputId": "cc002f0f-598b-42ed-887a-b271fdc87838",
        "colab": {
          "base_uri": "https://localhost:8080/",
          "height": 485
        }
      },
      "cell_type": "code",
      "source": [
        "import numpy as np\n",
        "\n",
        "x = []\n",
        "y = []\n",
        "\n",
        "gen_data(V, 8 , 0, x, y)\n",
        "gen_data(V_inv, 8, 1, x, y)\n",
        "x = np.asarray(x)\n",
        "y = np.asarray(y)\n",
        "\n",
        "############################\n",
        "\n",
        "fig = plt.figure(figsize=(8, 8))\n",
        "\n",
        "for idx, xi in enumerate(x, 1):\n",
        "    fig.add_subplot(4, 4, idx)\n",
        "    plt.imshow(xi)\n",
        "    plt.grid(False)\n",
        "\n"
      ],
      "execution_count": 8,
      "outputs": [
        {
          "output_type": "display_data",
          "data": {
            "image/png": "[encoded data removed]",
            "text/plain": [
              "<Figure size 576x576 with 16 Axes>"
            ]
          },
          "metadata": {
            "tags": []
          }
        }
      ]
    },
    {
      "metadata": {
        "id": "wRWpOUAUEUjk",
        "colab_type": "text"
      },
      "cell_type": "markdown",
      "source": [
        "\n",
        "\n",
        "---\n",
        "\n",
        "- Separe o dataset criado em 12 imagens de treinamento e 4 imagens de teste utilizando a função `train_test_split`. Depois treine um classificador do tipo Perceptron no conjunto de treino. Calcule a acurácia para os conjuntos de treino e teste.\n",
        "\n",
        "  - Dica: Você deve transformar as dimensões do conjunto de entrada para utilizar o Perceptron. Uma observação do conjunto é uma matriz 30x30. Para aplicar essa matriz no perceptron, você deve transformá-la em um vetor com 30x30 =900 elementos. Para isso utilize a função reshape da biblioteca numpy para transformar o conjunto x por inteiro."
      ]
    },
    {
      "metadata": {
        "id": "T31FabIn5bMY",
        "colab_type": "code",
        "outputId": "ed687e8f-76b6-48c8-cad6-1acb210c8129",
        "colab": {
          "base_uri": "https://localhost:8080/",
          "height": 141
        }
      },
      "cell_type": "code",
      "source": [
        "from sklearn.model_selection import train_test_split\n",
        "from sklearn.linear_model import Perceptron\n",
        "from sklearn.metrics import accuracy_score\n",
        "\n",
        "\n",
        "x = x.reshape(16, -1)\n",
        "x_train, x_test, y_train, y_test = train_test_split(x,y, train_size=12, \n",
        "                                                   shuffle=True, random_state=SEED)\n",
        "\n",
        "mlp = Perceptron(random_state=SEED)\n",
        "mlp.fit(x_train, y_train)\n",
        "\n",
        "y_train_pred = mlp.predict(x_train)\n",
        "y_test_pred = mlp.predict(x_test)\n",
        "\n",
        "print(f\"Acurácia do treino: {100*accuracy_score(y_train, y_train_pred)} %\")\n",
        "print(f\"Acurácia do test: {100*accuracy_score(y_test, y_test_pred)} %\")\n",
        "\n"
      ],
      "execution_count": 9,
      "outputs": [
        {
          "output_type": "stream",
          "text": [
            "Acurácia do treino: 100.0 %\n",
            "Acurácia do test: 100.0 %\n"
          ],
          "name": "stdout"
        },
        {
          "output_type": "stream",
          "text": [
            "/usr/local/lib/python3.6/dist-packages/sklearn/model_selection/_split.py:2179: FutureWarning: From version 0.21, test_size will always complement train_size unless both are specified.\n",
            "  FutureWarning)\n",
            "/usr/local/lib/python3.6/dist-packages/sklearn/linear_model/stochastic_gradient.py:166: FutureWarning: max_iter and tol parameters have been added in Perceptron in 0.19. If both are left unset, they default to max_iter=5 and tol=None. If tol is not None, max_iter defaults to max_iter=1000. From 0.21, default max_iter will be 1000, and default tol will be 1e-3.\n",
            "  FutureWarning)\n"
          ],
          "name": "stderr"
        }
      ]
    },
    {
      "metadata": {
        "id": "z8OfZnPPJU-s",
        "colab_type": "text"
      },
      "cell_type": "markdown",
      "source": [
        "\n",
        "\n",
        "---\n",
        "\n",
        "Devido à natureza da função threshold, podemos ter uma falsa sensação de quê nosso classificador classifica os exemplos com a mesma confiança. Porém, isso não é verdadeiro. No caso do perceptron utilizado, podemos ter uma medida da confiança do classificador para um dado exemplo calculando a distância relativa desse exemplo para o hiperplano separador. Essa medida pode ser obtida através da função `decision_function(X)`\n",
        "\n",
        "- Utilize a função  `decision_function(X)` para calcular a distância dos exemplos query0.png ~ query4.png ao hiperplano separador do classificador treinado no item anterior e analise a relação entre distância x confiança x qualidade do símbolo na imagem."
      ]
    },
    {
      "metadata": {
        "id": "Y9ugo9mGmsO8",
        "colab_type": "code",
        "outputId": "d3f8d35a-9835-4080-f956-f31fd469c6a6",
        "colab": {
          "base_uri": "https://localhost:8080/",
          "height": 86
        }
      },
      "cell_type": "code",
      "source": [
        "imgs = []\n",
        "names = []\n",
        "for i in range(5):\n",
        "    if i != 3:\n",
        "        name = f\"query{i}.png\"\n",
        "        names.append(name)\n",
        "        imgs.append(imread(name, as_grey=True))\n",
        "\n",
        "imgs = np.asarray(imgs)\n",
        "imgs = imgs.reshape(len(imgs), -1)\n",
        "\n",
        "for name, label, dist in zip(names, mlp.predict(imgs), mlp.decision_function(imgs)):\n",
        "    print(f\"Imagem {name} predita como {label} com distancia {dist} do hyperplano.\")\n",
        "    "
      ],
      "execution_count": 10,
      "outputs": [
        {
          "output_type": "stream",
          "text": [
            "Imagem query0.png predita como 0 com distancia -1.1364827090792158 do hyperplano.\n",
            "Imagem query1.png predita como 1 com distancia 9.458307985204955 do hyperplano.\n",
            "Imagem query2.png predita como 1 com distancia 34.29315756836227 do hyperplano.\n",
            "Imagem query4.png predita como 0 com distancia -4.5810564734675046 do hyperplano.\n"
          ],
          "name": "stdout"
        }
      ]
    },
    {
      "metadata": {
        "id": "nPpZqKwipQLw",
        "colab_type": "text"
      },
      "cell_type": "markdown",
      "source": [
        "A imagem query2 que é bem parecida com um V, foi facilmente classificada (distante do hyperplano)."
      ]
    },
    {
      "metadata": {
        "id": "364kVzwOpoq9",
        "colab_type": "code",
        "colab": {}
      },
      "cell_type": "code",
      "source": [
        ""
      ],
      "execution_count": 0,
      "outputs": []
    }
  ]
}