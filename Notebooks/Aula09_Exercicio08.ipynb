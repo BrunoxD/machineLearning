{
  "nbformat": 4,
  "nbformat_minor": 0,
  "metadata": {
    "colab": {
      "name": "Aula09-Exercicio08.ipynb",
      "version": "0.3.2",
      "provenance": [],
      "collapsed_sections": []
    },
    "kernelspec": {
      "name": "python3",
      "display_name": "Python 3"
    },
    "accelerator": "GPU"
  },
  "cells": [
    {
      "metadata": {
        "id": "hfSGsagoqV3H",
        "colab_type": "text"
      },
      "cell_type": "markdown",
      "source": [
        "# Aula 09 - Exercício 08\n",
        "## SVM\n",
        "### Alunos:\n",
        " - Bruno Gomes Coelho       - 9791160\n",
        " - Bruno Mendes da Costa - 9779433\n",
        " \n",
        " "
      ]
    },
    {
      "metadata": {
        "id": "sP8aTNSXqv9k",
        "colab_type": "text"
      },
      "cell_type": "markdown",
      "source": [
        "---\n",
        " ### Descrição do dataset\n",
        " \n",
        " \n",
        " O dataset \"Heart Diseases \" (mais informações [aqui](https://www.kaggle.com/ronitf/heart-disease-uci/version/1)) é um dataset de classificação que contém 13 atributos numéricos, que representam alguns índices médicos de pacientes. O atributo \"target\" refere-se a presença - ou não - de doênça cardíaca no paciente.\n",
        " \n",
        "--- \n",
        "### Questão 01.\n",
        "Carregue o arquivo `heart.csv`, separe os dados (variáveis dependentes e dependente) e escale os valores entre 0 e 1."
      ]
    },
    {
      "metadata": {
        "id": "x9Yo92Xkv5tR",
        "colab_type": "code",
        "colab": {}
      },
      "cell_type": "code",
      "source": [
        "!wget https://raw.githubusercontent.com/BrunoxD/machineLearning/master/aula9/heart.csv -qO heart.csv"
      ],
      "execution_count": 0,
      "outputs": []
    },
    {
      "metadata": {
        "id": "BhAuX9FnpkeA",
        "colab_type": "code",
        "outputId": "bc470bba-ce8a-4d5d-bbe0-b4850b9fd3ca",
        "colab": {
          "base_uri": "https://localhost:8080/",
          "height": 36
        }
      },
      "cell_type": "code",
      "source": [
        "!ls"
      ],
      "execution_count": 2,
      "outputs": [
        {
          "output_type": "stream",
          "text": [
            "heart.csv  sample_data\n"
          ],
          "name": "stdout"
        }
      ]
    },
    {
      "metadata": {
        "id": "ZMhW5DnTv9j7",
        "colab_type": "code",
        "colab": {}
      },
      "cell_type": "code",
      "source": [
        "import pandas as pd\n",
        "import numpy as np\n",
        "\n",
        "from sklearn.preprocessing import MinMaxScaler\n",
        "from sklearn.svm import LinearSVC, SVC\n",
        "from sklearn.model_selection import StratifiedKFold, cross_val_score\n",
        "from sklearn.metrics import accuracy_score\n"
      ],
      "execution_count": 0,
      "outputs": []
    },
    {
      "metadata": {
        "id": "N-xVi5NJ1TXD",
        "colab_type": "code",
        "outputId": "07cd5610-07aa-40dc-ddad-85310c449125",
        "colab": {
          "base_uri": "https://localhost:8080/",
          "height": 206
        }
      },
      "cell_type": "code",
      "source": [
        "df = pd.read_csv(\"heart.csv\")\n",
        "df.head()"
      ],
      "execution_count": 5,
      "outputs": [
        {
          "output_type": "execute_result",
          "data": {
            "text/html": [
              "<div>\n",
              "<style scoped>\n",
              "    .dataframe tbody tr th:only-of-type {\n",
              "        vertical-align: middle;\n",
              "    }\n",
              "\n",
              "    .dataframe tbody tr th {\n",
              "        vertical-align: top;\n",
              "    }\n",
              "\n",
              "    .dataframe thead th {\n",
              "        text-align: right;\n",
              "    }\n",
              "</style>\n",
              "<table border=\"1\" class=\"dataframe\">\n",
              "  <thead>\n",
              "    <tr style=\"text-align: right;\">\n",
              "      <th></th>\n",
              "      <th>age</th>\n",
              "      <th>sex</th>\n",
              "      <th>cp</th>\n",
              "      <th>trestbps</th>\n",
              "      <th>chol</th>\n",
              "      <th>fbs</th>\n",
              "      <th>restecg</th>\n",
              "      <th>thalach</th>\n",
              "      <th>exang</th>\n",
              "      <th>oldpeak</th>\n",
              "      <th>slope</th>\n",
              "      <th>ca</th>\n",
              "      <th>thal</th>\n",
              "      <th>target</th>\n",
              "    </tr>\n",
              "  </thead>\n",
              "  <tbody>\n",
              "    <tr>\n",
              "      <th>0</th>\n",
              "      <td>63</td>\n",
              "      <td>1</td>\n",
              "      <td>3</td>\n",
              "      <td>145</td>\n",
              "      <td>233</td>\n",
              "      <td>1</td>\n",
              "      <td>0</td>\n",
              "      <td>150</td>\n",
              "      <td>0</td>\n",
              "      <td>2.3</td>\n",
              "      <td>0</td>\n",
              "      <td>0</td>\n",
              "      <td>1</td>\n",
              "      <td>1</td>\n",
              "    </tr>\n",
              "    <tr>\n",
              "      <th>1</th>\n",
              "      <td>37</td>\n",
              "      <td>1</td>\n",
              "      <td>2</td>\n",
              "      <td>130</td>\n",
              "      <td>250</td>\n",
              "      <td>0</td>\n",
              "      <td>1</td>\n",
              "      <td>187</td>\n",
              "      <td>0</td>\n",
              "      <td>3.5</td>\n",
              "      <td>0</td>\n",
              "      <td>0</td>\n",
              "      <td>2</td>\n",
              "      <td>1</td>\n",
              "    </tr>\n",
              "    <tr>\n",
              "      <th>2</th>\n",
              "      <td>41</td>\n",
              "      <td>0</td>\n",
              "      <td>1</td>\n",
              "      <td>130</td>\n",
              "      <td>204</td>\n",
              "      <td>0</td>\n",
              "      <td>0</td>\n",
              "      <td>172</td>\n",
              "      <td>0</td>\n",
              "      <td>1.4</td>\n",
              "      <td>2</td>\n",
              "      <td>0</td>\n",
              "      <td>2</td>\n",
              "      <td>1</td>\n",
              "    </tr>\n",
              "    <tr>\n",
              "      <th>3</th>\n",
              "      <td>56</td>\n",
              "      <td>1</td>\n",
              "      <td>1</td>\n",
              "      <td>120</td>\n",
              "      <td>236</td>\n",
              "      <td>0</td>\n",
              "      <td>1</td>\n",
              "      <td>178</td>\n",
              "      <td>0</td>\n",
              "      <td>0.8</td>\n",
              "      <td>2</td>\n",
              "      <td>0</td>\n",
              "      <td>2</td>\n",
              "      <td>1</td>\n",
              "    </tr>\n",
              "    <tr>\n",
              "      <th>4</th>\n",
              "      <td>57</td>\n",
              "      <td>0</td>\n",
              "      <td>0</td>\n",
              "      <td>120</td>\n",
              "      <td>354</td>\n",
              "      <td>0</td>\n",
              "      <td>1</td>\n",
              "      <td>163</td>\n",
              "      <td>1</td>\n",
              "      <td>0.6</td>\n",
              "      <td>2</td>\n",
              "      <td>0</td>\n",
              "      <td>2</td>\n",
              "      <td>1</td>\n",
              "    </tr>\n",
              "  </tbody>\n",
              "</table>\n",
              "</div>"
            ],
            "text/plain": [
              "   age  sex  cp  trestbps  chol  fbs  restecg  thalach  exang  oldpeak  slope  \\\n",
              "0   63    1   3       145   233    1        0      150      0      2.3      0   \n",
              "1   37    1   2       130   250    0        1      187      0      3.5      0   \n",
              "2   41    0   1       130   204    0        0      172      0      1.4      2   \n",
              "3   56    1   1       120   236    0        1      178      0      0.8      2   \n",
              "4   57    0   0       120   354    0        1      163      1      0.6      2   \n",
              "\n",
              "   ca  thal  target  \n",
              "0   0     1       1  \n",
              "1   0     2       1  \n",
              "2   0     2       1  \n",
              "3   0     2       1  \n",
              "4   0     2       1  "
            ]
          },
          "metadata": {
            "tags": []
          },
          "execution_count": 5
        }
      ]
    },
    {
      "metadata": {
        "id": "0I_DhQyU1Wj5",
        "colab_type": "code",
        "outputId": "e809cfa8-9776-4b02-a77a-7f468a521b0a",
        "colab": {
          "base_uri": "https://localhost:8080/",
          "height": 36
        }
      },
      "cell_type": "code",
      "source": [
        "df.shape"
      ],
      "execution_count": 6,
      "outputs": [
        {
          "output_type": "execute_result",
          "data": {
            "text/plain": [
              "(303, 14)"
            ]
          },
          "metadata": {
            "tags": []
          },
          "execution_count": 6
        }
      ]
    },
    {
      "metadata": {
        "id": "kT3qmtfCwlVd",
        "colab_type": "code",
        "outputId": "0e58225c-6edd-435e-a895-aff0d9a63cc3",
        "colab": {
          "base_uri": "https://localhost:8080/",
          "height": 263
        }
      },
      "cell_type": "code",
      "source": [
        "scaler = MinMaxScaler()\n",
        "cols = df.drop(columns=\"target\").columns\n",
        "df.loc[:, cols] = scaler.fit_transform(df[cols])\n",
        "df.head()"
      ],
      "execution_count": 7,
      "outputs": [
        {
          "output_type": "stream",
          "text": [
            "/usr/local/lib/python3.6/dist-packages/sklearn/preprocessing/data.py:334: DataConversionWarning: Data with input dtype int64, float64 were all converted to float64 by MinMaxScaler.\n",
            "  return self.partial_fit(X, y)\n"
          ],
          "name": "stderr"
        },
        {
          "output_type": "execute_result",
          "data": {
            "text/html": [
              "<div>\n",
              "<style scoped>\n",
              "    .dataframe tbody tr th:only-of-type {\n",
              "        vertical-align: middle;\n",
              "    }\n",
              "\n",
              "    .dataframe tbody tr th {\n",
              "        vertical-align: top;\n",
              "    }\n",
              "\n",
              "    .dataframe thead th {\n",
              "        text-align: right;\n",
              "    }\n",
              "</style>\n",
              "<table border=\"1\" class=\"dataframe\">\n",
              "  <thead>\n",
              "    <tr style=\"text-align: right;\">\n",
              "      <th></th>\n",
              "      <th>age</th>\n",
              "      <th>sex</th>\n",
              "      <th>cp</th>\n",
              "      <th>trestbps</th>\n",
              "      <th>chol</th>\n",
              "      <th>fbs</th>\n",
              "      <th>restecg</th>\n",
              "      <th>thalach</th>\n",
              "      <th>exang</th>\n",
              "      <th>oldpeak</th>\n",
              "      <th>slope</th>\n",
              "      <th>ca</th>\n",
              "      <th>thal</th>\n",
              "      <th>target</th>\n",
              "    </tr>\n",
              "  </thead>\n",
              "  <tbody>\n",
              "    <tr>\n",
              "      <th>0</th>\n",
              "      <td>0.708333</td>\n",
              "      <td>1.0</td>\n",
              "      <td>1.000000</td>\n",
              "      <td>0.481132</td>\n",
              "      <td>0.244292</td>\n",
              "      <td>1.0</td>\n",
              "      <td>0.0</td>\n",
              "      <td>0.603053</td>\n",
              "      <td>0.0</td>\n",
              "      <td>0.370968</td>\n",
              "      <td>0.0</td>\n",
              "      <td>0.0</td>\n",
              "      <td>0.333333</td>\n",
              "      <td>1</td>\n",
              "    </tr>\n",
              "    <tr>\n",
              "      <th>1</th>\n",
              "      <td>0.166667</td>\n",
              "      <td>1.0</td>\n",
              "      <td>0.666667</td>\n",
              "      <td>0.339623</td>\n",
              "      <td>0.283105</td>\n",
              "      <td>0.0</td>\n",
              "      <td>0.5</td>\n",
              "      <td>0.885496</td>\n",
              "      <td>0.0</td>\n",
              "      <td>0.564516</td>\n",
              "      <td>0.0</td>\n",
              "      <td>0.0</td>\n",
              "      <td>0.666667</td>\n",
              "      <td>1</td>\n",
              "    </tr>\n",
              "    <tr>\n",
              "      <th>2</th>\n",
              "      <td>0.250000</td>\n",
              "      <td>0.0</td>\n",
              "      <td>0.333333</td>\n",
              "      <td>0.339623</td>\n",
              "      <td>0.178082</td>\n",
              "      <td>0.0</td>\n",
              "      <td>0.0</td>\n",
              "      <td>0.770992</td>\n",
              "      <td>0.0</td>\n",
              "      <td>0.225806</td>\n",
              "      <td>1.0</td>\n",
              "      <td>0.0</td>\n",
              "      <td>0.666667</td>\n",
              "      <td>1</td>\n",
              "    </tr>\n",
              "    <tr>\n",
              "      <th>3</th>\n",
              "      <td>0.562500</td>\n",
              "      <td>1.0</td>\n",
              "      <td>0.333333</td>\n",
              "      <td>0.245283</td>\n",
              "      <td>0.251142</td>\n",
              "      <td>0.0</td>\n",
              "      <td>0.5</td>\n",
              "      <td>0.816794</td>\n",
              "      <td>0.0</td>\n",
              "      <td>0.129032</td>\n",
              "      <td>1.0</td>\n",
              "      <td>0.0</td>\n",
              "      <td>0.666667</td>\n",
              "      <td>1</td>\n",
              "    </tr>\n",
              "    <tr>\n",
              "      <th>4</th>\n",
              "      <td>0.583333</td>\n",
              "      <td>0.0</td>\n",
              "      <td>0.000000</td>\n",
              "      <td>0.245283</td>\n",
              "      <td>0.520548</td>\n",
              "      <td>0.0</td>\n",
              "      <td>0.5</td>\n",
              "      <td>0.702290</td>\n",
              "      <td>1.0</td>\n",
              "      <td>0.096774</td>\n",
              "      <td>1.0</td>\n",
              "      <td>0.0</td>\n",
              "      <td>0.666667</td>\n",
              "      <td>1</td>\n",
              "    </tr>\n",
              "  </tbody>\n",
              "</table>\n",
              "</div>"
            ],
            "text/plain": [
              "        age  sex        cp  trestbps      chol  fbs  restecg   thalach  exang  \\\n",
              "0  0.708333  1.0  1.000000  0.481132  0.244292  1.0      0.0  0.603053    0.0   \n",
              "1  0.166667  1.0  0.666667  0.339623  0.283105  0.0      0.5  0.885496    0.0   \n",
              "2  0.250000  0.0  0.333333  0.339623  0.178082  0.0      0.0  0.770992    0.0   \n",
              "3  0.562500  1.0  0.333333  0.245283  0.251142  0.0      0.5  0.816794    0.0   \n",
              "4  0.583333  0.0  0.000000  0.245283  0.520548  0.0      0.5  0.702290    1.0   \n",
              "\n",
              "    oldpeak  slope   ca      thal  target  \n",
              "0  0.370968    0.0  0.0  0.333333       1  \n",
              "1  0.564516    0.0  0.0  0.666667       1  \n",
              "2  0.225806    1.0  0.0  0.666667       1  \n",
              "3  0.129032    1.0  0.0  0.666667       1  \n",
              "4  0.096774    1.0  0.0  0.666667       1  "
            ]
          },
          "metadata": {
            "tags": []
          },
          "execution_count": 7
        }
      ]
    },
    {
      "metadata": {
        "id": "E6IV8Yd645vi",
        "colab_type": "text"
      },
      "cell_type": "markdown",
      "source": [
        "--- \n",
        "### Questão 02.\n",
        "Instancie diferentes configurações de SVM's:\n",
        "\n",
        "* SVM linear\n",
        "* SVM polinomial de ordem 2\n",
        "* SVM polinomial de ordem 3\n",
        "* SVM RBF com `gamma = 'auto'`\n",
        "\n",
        "\n",
        "Para deixar o código mais organizável e legível, utilize estruturas do tipo dicionário para instanciar cada classificador bem como um array de scores. Por exemplo, para testar um classificador MLP com 1 camada escondida de 5 neuronios e outro com 2 camadas escondidas de 5 neurônios,  poderíamos instancia-los da forma:\n",
        "\n",
        "```\n",
        "experimentos = { \n",
        "    \"MLP camada escondida (5,)\": {\n",
        "        \"model\" : MLPClassifier(hidden_layer_sizes=(5,),\n",
        "        \"scores\" : []\n",
        "    },\n",
        "    \"MLP camada escondida (5,5)\": {\n",
        "        \"model\" : MLPClassifier(hidden_layer_sizes=(5,5),\n",
        "        \"scores\" : []\n",
        "    }\n",
        "}\n",
        "```"
      ]
    },
    {
      "metadata": {
        "id": "fY6a4jIoxRgS",
        "colab_type": "code",
        "colab": {}
      },
      "cell_type": "code",
      "source": [
        "experiments = { \n",
        "    \"SVM Linear\": {\n",
        "        \"model\" : LinearSVC(),\n",
        "        \"scores\" : []\n",
        "    },\n",
        "    \n",
        "    \"SVM poly 2\": {\n",
        "        \"model\" : SVC(kernel=\"poly\", degree=2, gamma=\"auto\"),\n",
        "        \"scores\" : []\n",
        "    },\n",
        "    \n",
        "    \"SVM poly 3\": {\n",
        "        \"model\" : SVC(kernel=\"poly\", degree=3, gamma=\"auto\"),\n",
        "        \"scores\" : []\n",
        "    },\n",
        "    \n",
        "    \"SVM RBF\": {\n",
        "        \"model\" : SVC(kernel=\"rbf\", gamma=\"auto\"),\n",
        "        \"scores\" : []\n",
        "    }\n",
        "    \n",
        "}"
      ],
      "execution_count": 0,
      "outputs": []
    },
    {
      "metadata": {
        "id": "6CTR5Dvy72dX",
        "colab_type": "text"
      },
      "cell_type": "markdown",
      "source": [
        "\n",
        "\n",
        "---\n",
        "\n",
        "### Questão 03.\n",
        "\n",
        "Utilize 10-fold cross-validation no conjunto de dados para treinar e obter scores de acurácia dos classificadores para cada fold, de maneira genérica. Ou seja, para cada fold, sua rotina deve iterar pelo dicionário e treinar todos os classificadores e extrair uma medida de score, que será utilizada posteriormente. \n",
        "\n",
        "Para facilitar o debug, imprima informações como o número do fold atual e qual modelo está sendo treinado."
      ]
    },
    {
      "metadata": {
        "id": "J8mtXhqN888D",
        "colab_type": "code",
        "colab": {}
      },
      "cell_type": "code",
      "source": [
        "def run_experiments(experiments, cv=10):\n",
        "    x = df.drop(columns=\"target\")\n",
        "    y = df[[\"target\"]]\n",
        "        \n",
        "    for name, values in experiments.items():\n",
        "        print(name)\n",
        "        folds = StratifiedKFold(n_splits=cv, random_state=42)\n",
        "        # Por padrão o cross_val_score é estratificado com o StratifiedKFold.\n",
        "        results = cross_val_score(values[\"model\"], x, y[\"target\"], cv=folds)\n",
        "        experiments[name][\"score\"] = results\n",
        "        for idx, result in enumerate(results, 1):            \n",
        "            print(f\"\\tFOLD = {idx}, ACC = {result}\")\n",
        "        print()"
      ],
      "execution_count": 0,
      "outputs": []
    },
    {
      "metadata": {
        "id": "qiRYpwYb04Rj",
        "colab_type": "code",
        "outputId": "2e1c2bd5-33e4-44fa-e754-fb60a60a3e8f",
        "colab": {
          "base_uri": "https://localhost:8080/",
          "height": 915
        }
      },
      "cell_type": "code",
      "source": [
        "run_experiments(experiments, cv=10)"
      ],
      "execution_count": 10,
      "outputs": [
        {
          "output_type": "stream",
          "text": [
            "SVM Linear\n",
            "\tFOLD = 1, ACC = 0.8709677419354839\n",
            "\tFOLD = 2, ACC = 0.8064516129032258\n",
            "\tFOLD = 3, ACC = 0.8064516129032258\n",
            "\tFOLD = 4, ACC = 0.8709677419354839\n",
            "\tFOLD = 5, ACC = 0.8709677419354839\n",
            "\tFOLD = 6, ACC = 0.7666666666666667\n",
            "\tFOLD = 7, ACC = 0.8333333333333334\n",
            "\tFOLD = 8, ACC = 0.8666666666666667\n",
            "\tFOLD = 9, ACC = 0.6896551724137931\n",
            "\tFOLD = 10, ACC = 0.7241379310344828\n",
            "\n",
            "SVM poly 2\n",
            "\tFOLD = 1, ACC = 0.8064516129032258\n",
            "\tFOLD = 2, ACC = 0.7096774193548387\n",
            "\tFOLD = 3, ACC = 0.8064516129032258\n",
            "\tFOLD = 4, ACC = 0.7741935483870968\n",
            "\tFOLD = 5, ACC = 0.7419354838709677\n",
            "\tFOLD = 6, ACC = 0.7666666666666667\n",
            "\tFOLD = 7, ACC = 0.8666666666666667\n",
            "\tFOLD = 8, ACC = 0.7666666666666667\n",
            "\tFOLD = 9, ACC = 0.7241379310344828\n",
            "\tFOLD = 10, ACC = 0.7586206896551724\n",
            "\n",
            "SVM poly 3\n",
            "\tFOLD = 1, ACC = 0.7741935483870968\n",
            "\tFOLD = 2, ACC = 0.6451612903225806\n",
            "\tFOLD = 3, ACC = 0.8064516129032258\n",
            "\tFOLD = 4, ACC = 0.7096774193548387\n",
            "\tFOLD = 5, ACC = 0.7741935483870968\n",
            "\tFOLD = 6, ACC = 0.6666666666666666\n",
            "\tFOLD = 7, ACC = 0.8\n",
            "\tFOLD = 8, ACC = 0.6333333333333333\n",
            "\tFOLD = 9, ACC = 0.6551724137931034\n",
            "\tFOLD = 10, ACC = 0.6206896551724138\n",
            "\n",
            "SVM RBF\n",
            "\tFOLD = 1, ACC = 0.8387096774193549\n",
            "\tFOLD = 2, ACC = 0.8064516129032258\n",
            "\tFOLD = 3, ACC = 0.8387096774193549\n",
            "\tFOLD = 4, ACC = 0.9032258064516129\n",
            "\tFOLD = 5, ACC = 0.8387096774193549\n",
            "\tFOLD = 6, ACC = 0.8333333333333334\n",
            "\tFOLD = 7, ACC = 0.8\n",
            "\tFOLD = 8, ACC = 0.7666666666666667\n",
            "\tFOLD = 9, ACC = 0.7241379310344828\n",
            "\tFOLD = 10, ACC = 0.8620689655172413\n",
            "\n"
          ],
          "name": "stdout"
        }
      ]
    },
    {
      "metadata": {
        "id": "hzueZG7t8UxA",
        "colab_type": "text"
      },
      "cell_type": "markdown",
      "source": [
        "\n",
        "\n",
        "---\n",
        "\n",
        "### Questão 04.\n",
        "\n",
        "Finalmente, para cada classificador, exiba a acurácia média e seu desvio padrão. Com base nessas duas medidas, determine qual foi a melhor configuração testada."
      ]
    },
    {
      "metadata": {
        "id": "OEAbjJZk82kB",
        "colab_type": "code",
        "outputId": "e0d04521-d3e6-4f24-bc16-413f5f040e99",
        "colab": {
          "base_uri": "https://localhost:8080/",
          "height": 92
        }
      },
      "cell_type": "code",
      "source": [
        "  for name, values in experiments.items():\n",
        "        mean = values[\"score\"].mean()\n",
        "        std = values[\"score\"].std()\n",
        "        print(f\"{name} - ACC Média = {mean}, ACC Desvio Padrão = {std}\")"
      ],
      "execution_count": 11,
      "outputs": [
        {
          "output_type": "stream",
          "text": [
            "SVM Linear - ACC Média = 0.8106266221727845, ACC Desvio Padrão = 0.06217793657380773\n",
            "SVM poly 2 - ACC Média = 0.772146829810901, ACC Desvio Padrão = 0.043191263901205236\n",
            "SVM poly 3 - ACC Média = 0.7085539488320356, ACC Desvio Padrão = 0.06968912834139983\n",
            "SVM RBF - ACC Média = 0.8212013348164628, ACC Desvio Padrão = 0.04746301089765008\n"
          ],
          "name": "stdout"
        }
      ]
    },
    {
      "metadata": {
        "id": "pe_hLPMP1_TG",
        "colab_type": "text"
      },
      "cell_type": "markdown",
      "source": [
        "Conforme pode ser observado, o melhor classificador foi o SVM RBF, já que teve a maior acurácia e o 2º menor desvio padrão. O SVM Linear teve um resultado próximo, mas não tão bom quanto.\n",
        "\n",
        "\n",
        "---\n",
        "\n"
      ]
    }
  ]
}