{
  "nbformat": 4,
  "nbformat_minor": 0,
  "metadata": {
    "colab": {
      "name": "Aula07-Exercicio06.ipynb",
      "version": "0.3.2",
      "provenance": [],
      "collapsed_sections": []
    },
    "kernelspec": {
      "name": "python3",
      "display_name": "Python 3"
    }
  },
  "cells": [
    {
      "metadata": {
        "id": "LTpbHqrlBaNw",
        "colab_type": "text"
      },
      "cell_type": "markdown",
      "source": [
        "# Aula 07 - Exercício 06\n",
        "## KNN e Métricas de avaliação\n",
        "### Alunos:\n",
        " - Bruno Gomes Coelho       - 9791160\n",
        " - Bruno Mendes da Costa - 9779433\n",
        " "
      ]
    },
    {
      "metadata": {
        "id": "uTXmrvNrBkJB",
        "colab_type": "text"
      },
      "cell_type": "markdown",
      "source": [
        "O dataset [\"Breast Cancer Wisconsin\"](https://archive.ics.uci.edu/ml/datasets/Breast+Cancer+Wisconsin+(Original) é um dataset que contém 699 instâncias, cada uma com 10 atributos númericos e 1 atributo correspondente a classe. A idéia do dataset é conseguir classificar um tumor como benigno ou maligno a partir de 10 variáveis descritivas. Foi adicionado um cabeçalho no arquivo original para facilitar seu manuseio.\n",
        "\n",
        "- Notas:\n",
        "\n",
        "  - **O dataset possui valores ausentes, representados por \"?\"**\n",
        "  - A primeira variável do dataset é o ID de cada paciente. Essa variável **NÃO** deve ser utilizada no classificador \n",
        "\n",
        "---\n",
        "\n",
        "- Carregue o dataset a partir do arquivo fornecido, substituindo os valores ausentes pela média dos valores daquela coluna. Utilize as classes `sklearn.impute.SimpleImputer` e a biblioteca `pandas`."
      ]
    },
    {
      "metadata": {
        "id": "hkcixFXMeNV9",
        "colab_type": "code",
        "colab": {}
      },
      "cell_type": "code",
      "source": [
        "# Download do dataset\n",
        "!wget https://raw.githubusercontent.com/BrunoxD/machineLearning/master/aula7/breast-cancer-wisconsin.data -qO breast-cancer-wisconsin.data"
      ],
      "execution_count": 0,
      "outputs": []
    },
    {
      "metadata": {
        "id": "OpkBLaRqsCaW",
        "colab_type": "code",
        "colab": {}
      },
      "cell_type": "code",
      "source": [
        "# Updating Seaborn\n",
        "!pip3 install -qU seaborn"
      ],
      "execution_count": 0,
      "outputs": []
    },
    {
      "metadata": {
        "id": "T5VRbRDdUArr",
        "colab_type": "code",
        "colab": {}
      },
      "cell_type": "code",
      "source": [
        "import numpy as np\n",
        "import pandas as pd\n",
        "import matplotlib.pyplot as plt\n",
        "import seaborn as sns; sns.set()\n",
        "\n",
        "from sklearn.impute import SimpleImputer\n",
        "from sklearn.metrics import confusion_matrix\n",
        "from sklearn.preprocessing import StandardScaler\n",
        "from sklearn.neighbors import KNeighborsClassifier\n",
        "from sklearn.model_selection import train_test_split"
      ],
      "execution_count": 0,
      "outputs": []
    },
    {
      "metadata": {
        "id": "c6-ZV6hFeZrV",
        "colab_type": "code",
        "colab": {}
      },
      "cell_type": "code",
      "source": [
        "# Carregando o dataset e definindo \"?\" como valor nulo\n",
        "df = pd.read_csv(\"breast-cancer-wisconsin.data\", na_values=\"?\")\n",
        "\n",
        "# Retirando a coluna ID\n",
        "df.drop(columns=['id'], inplace=True)"
      ],
      "execution_count": 0,
      "outputs": []
    },
    {
      "metadata": {
        "id": "nb62BD8htl3z",
        "colab_type": "code",
        "colab": {
          "base_uri": "https://localhost:8080/",
          "height": 226
        },
        "outputId": "6fdd1cf2-d81c-4fd5-f0be-55e7cb291cd3"
      },
      "cell_type": "code",
      "source": [
        "# Visualizando valor nulo como NaN\n",
        "df[22:25]"
      ],
      "execution_count": 5,
      "outputs": [
        {
          "output_type": "execute_result",
          "data": {
            "text/html": [
              "<div>\n",
              "<style scoped>\n",
              "    .dataframe tbody tr th:only-of-type {\n",
              "        vertical-align: middle;\n",
              "    }\n",
              "\n",
              "    .dataframe tbody tr th {\n",
              "        vertical-align: top;\n",
              "    }\n",
              "\n",
              "    .dataframe thead th {\n",
              "        text-align: right;\n",
              "    }\n",
              "</style>\n",
              "<table border=\"1\" class=\"dataframe\">\n",
              "  <thead>\n",
              "    <tr style=\"text-align: right;\">\n",
              "      <th></th>\n",
              "      <th>clump_thickness</th>\n",
              "      <th>u_cell_size</th>\n",
              "      <th>u_cell_shape</th>\n",
              "      <th>marg_adhesion</th>\n",
              "      <th>epi_cell_size</th>\n",
              "      <th>bare_nuclei</th>\n",
              "      <th>bland_chrom</th>\n",
              "      <th>norm_nucl</th>\n",
              "      <th>mitoses</th>\n",
              "      <th>class</th>\n",
              "    </tr>\n",
              "  </thead>\n",
              "  <tbody>\n",
              "    <tr>\n",
              "      <th>22</th>\n",
              "      <td>3</td>\n",
              "      <td>1</td>\n",
              "      <td>1</td>\n",
              "      <td>1</td>\n",
              "      <td>2</td>\n",
              "      <td>1.0</td>\n",
              "      <td>2</td>\n",
              "      <td>1</td>\n",
              "      <td>1</td>\n",
              "      <td>2</td>\n",
              "    </tr>\n",
              "    <tr>\n",
              "      <th>23</th>\n",
              "      <td>8</td>\n",
              "      <td>4</td>\n",
              "      <td>5</td>\n",
              "      <td>1</td>\n",
              "      <td>2</td>\n",
              "      <td>NaN</td>\n",
              "      <td>7</td>\n",
              "      <td>3</td>\n",
              "      <td>1</td>\n",
              "      <td>4</td>\n",
              "    </tr>\n",
              "    <tr>\n",
              "      <th>24</th>\n",
              "      <td>1</td>\n",
              "      <td>1</td>\n",
              "      <td>1</td>\n",
              "      <td>1</td>\n",
              "      <td>2</td>\n",
              "      <td>1.0</td>\n",
              "      <td>3</td>\n",
              "      <td>1</td>\n",
              "      <td>1</td>\n",
              "      <td>2</td>\n",
              "    </tr>\n",
              "  </tbody>\n",
              "</table>\n",
              "</div>"
            ],
            "text/plain": [
              "    clump_thickness  u_cell_size  u_cell_shape  marg_adhesion  epi_cell_size  \\\n",
              "22                3            1             1              1              2   \n",
              "23                8            4             5              1              2   \n",
              "24                1            1             1              1              2   \n",
              "\n",
              "    bare_nuclei  bland_chrom  norm_nucl  mitoses  class  \n",
              "22          1.0            2          1        1      2  \n",
              "23          NaN            7          3        1      4  \n",
              "24          1.0            3          1        1      2  "
            ]
          },
          "metadata": {
            "tags": []
          },
          "execution_count": 5
        }
      ]
    },
    {
      "metadata": {
        "id": "ozB1wKcTizyd",
        "colab_type": "code",
        "outputId": "abd11a0c-4690-497b-8aee-6c32b6656df8",
        "colab": {
          "base_uri": "https://localhost:8080/",
          "height": 535
        }
      },
      "cell_type": "code",
      "source": [
        "# Visualizações de medidas padrões como a média que será utilizada\n",
        "df.describe().T"
      ],
      "execution_count": 6,
      "outputs": [
        {
          "output_type": "execute_result",
          "data": {
            "text/html": [
              "<div>\n",
              "<style scoped>\n",
              "    .dataframe tbody tr th:only-of-type {\n",
              "        vertical-align: middle;\n",
              "    }\n",
              "\n",
              "    .dataframe tbody tr th {\n",
              "        vertical-align: top;\n",
              "    }\n",
              "\n",
              "    .dataframe thead th {\n",
              "        text-align: right;\n",
              "    }\n",
              "</style>\n",
              "<table border=\"1\" class=\"dataframe\">\n",
              "  <thead>\n",
              "    <tr style=\"text-align: right;\">\n",
              "      <th></th>\n",
              "      <th>count</th>\n",
              "      <th>mean</th>\n",
              "      <th>std</th>\n",
              "      <th>min</th>\n",
              "      <th>25%</th>\n",
              "      <th>50%</th>\n",
              "      <th>75%</th>\n",
              "      <th>max</th>\n",
              "    </tr>\n",
              "  </thead>\n",
              "  <tbody>\n",
              "    <tr>\n",
              "      <th>clump_thickness</th>\n",
              "      <td>699.0</td>\n",
              "      <td>4.417740</td>\n",
              "      <td>2.815741</td>\n",
              "      <td>1.0</td>\n",
              "      <td>2.0</td>\n",
              "      <td>4.0</td>\n",
              "      <td>6.0</td>\n",
              "      <td>10.0</td>\n",
              "    </tr>\n",
              "    <tr>\n",
              "      <th>u_cell_size</th>\n",
              "      <td>699.0</td>\n",
              "      <td>3.134478</td>\n",
              "      <td>3.051459</td>\n",
              "      <td>1.0</td>\n",
              "      <td>1.0</td>\n",
              "      <td>1.0</td>\n",
              "      <td>5.0</td>\n",
              "      <td>10.0</td>\n",
              "    </tr>\n",
              "    <tr>\n",
              "      <th>u_cell_shape</th>\n",
              "      <td>699.0</td>\n",
              "      <td>3.207439</td>\n",
              "      <td>2.971913</td>\n",
              "      <td>1.0</td>\n",
              "      <td>1.0</td>\n",
              "      <td>1.0</td>\n",
              "      <td>5.0</td>\n",
              "      <td>10.0</td>\n",
              "    </tr>\n",
              "    <tr>\n",
              "      <th>marg_adhesion</th>\n",
              "      <td>699.0</td>\n",
              "      <td>2.806867</td>\n",
              "      <td>2.855379</td>\n",
              "      <td>1.0</td>\n",
              "      <td>1.0</td>\n",
              "      <td>1.0</td>\n",
              "      <td>4.0</td>\n",
              "      <td>10.0</td>\n",
              "    </tr>\n",
              "    <tr>\n",
              "      <th>epi_cell_size</th>\n",
              "      <td>699.0</td>\n",
              "      <td>3.216023</td>\n",
              "      <td>2.214300</td>\n",
              "      <td>1.0</td>\n",
              "      <td>2.0</td>\n",
              "      <td>2.0</td>\n",
              "      <td>4.0</td>\n",
              "      <td>10.0</td>\n",
              "    </tr>\n",
              "    <tr>\n",
              "      <th>bare_nuclei</th>\n",
              "      <td>683.0</td>\n",
              "      <td>3.544656</td>\n",
              "      <td>3.643857</td>\n",
              "      <td>1.0</td>\n",
              "      <td>1.0</td>\n",
              "      <td>1.0</td>\n",
              "      <td>6.0</td>\n",
              "      <td>10.0</td>\n",
              "    </tr>\n",
              "    <tr>\n",
              "      <th>bland_chrom</th>\n",
              "      <td>699.0</td>\n",
              "      <td>3.437768</td>\n",
              "      <td>2.438364</td>\n",
              "      <td>1.0</td>\n",
              "      <td>2.0</td>\n",
              "      <td>3.0</td>\n",
              "      <td>5.0</td>\n",
              "      <td>10.0</td>\n",
              "    </tr>\n",
              "    <tr>\n",
              "      <th>norm_nucl</th>\n",
              "      <td>699.0</td>\n",
              "      <td>2.866953</td>\n",
              "      <td>3.053634</td>\n",
              "      <td>1.0</td>\n",
              "      <td>1.0</td>\n",
              "      <td>1.0</td>\n",
              "      <td>4.0</td>\n",
              "      <td>10.0</td>\n",
              "    </tr>\n",
              "    <tr>\n",
              "      <th>mitoses</th>\n",
              "      <td>699.0</td>\n",
              "      <td>1.589413</td>\n",
              "      <td>1.715078</td>\n",
              "      <td>1.0</td>\n",
              "      <td>1.0</td>\n",
              "      <td>1.0</td>\n",
              "      <td>1.0</td>\n",
              "      <td>10.0</td>\n",
              "    </tr>\n",
              "    <tr>\n",
              "      <th>class</th>\n",
              "      <td>699.0</td>\n",
              "      <td>2.689557</td>\n",
              "      <td>0.951273</td>\n",
              "      <td>2.0</td>\n",
              "      <td>2.0</td>\n",
              "      <td>2.0</td>\n",
              "      <td>4.0</td>\n",
              "      <td>4.0</td>\n",
              "    </tr>\n",
              "  </tbody>\n",
              "</table>\n",
              "</div>"
            ],
            "text/plain": [
              "                 count      mean       std  min  25%  50%  75%   max\n",
              "clump_thickness  699.0  4.417740  2.815741  1.0  2.0  4.0  6.0  10.0\n",
              "u_cell_size      699.0  3.134478  3.051459  1.0  1.0  1.0  5.0  10.0\n",
              "u_cell_shape     699.0  3.207439  2.971913  1.0  1.0  1.0  5.0  10.0\n",
              "marg_adhesion    699.0  2.806867  2.855379  1.0  1.0  1.0  4.0  10.0\n",
              "epi_cell_size    699.0  3.216023  2.214300  1.0  2.0  2.0  4.0  10.0\n",
              "bare_nuclei      683.0  3.544656  3.643857  1.0  1.0  1.0  6.0  10.0\n",
              "bland_chrom      699.0  3.437768  2.438364  1.0  2.0  3.0  5.0  10.0\n",
              "norm_nucl        699.0  2.866953  3.053634  1.0  1.0  1.0  4.0  10.0\n",
              "mitoses          699.0  1.589413  1.715078  1.0  1.0  1.0  1.0  10.0\n",
              "class            699.0  2.689557  0.951273  2.0  2.0  2.0  4.0   4.0"
            ]
          },
          "metadata": {
            "tags": []
          },
          "execution_count": 6
        }
      ]
    },
    {
      "metadata": {
        "id": "YJ1v_PrDgT7r",
        "colab_type": "code",
        "outputId": "6e332812-3a14-4e27-f462-761cb2f85b40",
        "colab": {
          "base_uri": "https://localhost:8080/",
          "height": 45
        }
      },
      "cell_type": "code",
      "source": [
        "# Total de valores nulos\n",
        "df.isna().sum().sum()"
      ],
      "execution_count": 7,
      "outputs": [
        {
          "output_type": "execute_result",
          "data": {
            "text/plain": [
              "16"
            ]
          },
          "metadata": {
            "tags": []
          },
          "execution_count": 7
        }
      ]
    },
    {
      "metadata": {
        "id": "YYyCugkGfTfY",
        "colab_type": "code",
        "colab": {}
      },
      "cell_type": "code",
      "source": [
        "# Definindo a estratégia de remoção de valores nulos\n",
        "imp_mean = SimpleImputer(missing_values=np.nan, strategy='mean')\n",
        "\n",
        "# Retirando os valores nulos\n",
        "df = pd.DataFrame(imp_mean.fit_transform(df), columns=df.columns)"
      ],
      "execution_count": 0,
      "outputs": []
    },
    {
      "metadata": {
        "id": "cmkksFObg2zs",
        "colab_type": "code",
        "outputId": "358d696b-87a1-4567-d5c9-4663f1fd0f41",
        "colab": {
          "base_uri": "https://localhost:8080/",
          "height": 45
        }
      },
      "cell_type": "code",
      "source": [
        "# Verificamdo a nova quantidade de valores nulos\n",
        "df.isna().sum().sum()"
      ],
      "execution_count": 9,
      "outputs": [
        {
          "output_type": "execute_result",
          "data": {
            "text/plain": [
              "0"
            ]
          },
          "metadata": {
            "tags": []
          },
          "execution_count": 9
        }
      ]
    },
    {
      "metadata": {
        "id": "PwgaKjbohSX2",
        "colab_type": "code",
        "outputId": "a219f474-c368-473f-ed62-9bf574e537cd",
        "colab": {
          "base_uri": "https://localhost:8080/",
          "height": 226
        }
      },
      "cell_type": "code",
      "source": [
        "# Conferindo que os valores nulos foram substituidos pela média\n",
        "df[22:25]"
      ],
      "execution_count": 10,
      "outputs": [
        {
          "output_type": "execute_result",
          "data": {
            "text/html": [
              "<div>\n",
              "<style scoped>\n",
              "    .dataframe tbody tr th:only-of-type {\n",
              "        vertical-align: middle;\n",
              "    }\n",
              "\n",
              "    .dataframe tbody tr th {\n",
              "        vertical-align: top;\n",
              "    }\n",
              "\n",
              "    .dataframe thead th {\n",
              "        text-align: right;\n",
              "    }\n",
              "</style>\n",
              "<table border=\"1\" class=\"dataframe\">\n",
              "  <thead>\n",
              "    <tr style=\"text-align: right;\">\n",
              "      <th></th>\n",
              "      <th>clump_thickness</th>\n",
              "      <th>u_cell_size</th>\n",
              "      <th>u_cell_shape</th>\n",
              "      <th>marg_adhesion</th>\n",
              "      <th>epi_cell_size</th>\n",
              "      <th>bare_nuclei</th>\n",
              "      <th>bland_chrom</th>\n",
              "      <th>norm_nucl</th>\n",
              "      <th>mitoses</th>\n",
              "      <th>class</th>\n",
              "    </tr>\n",
              "  </thead>\n",
              "  <tbody>\n",
              "    <tr>\n",
              "      <th>22</th>\n",
              "      <td>3.0</td>\n",
              "      <td>1.0</td>\n",
              "      <td>1.0</td>\n",
              "      <td>1.0</td>\n",
              "      <td>2.0</td>\n",
              "      <td>1.000000</td>\n",
              "      <td>2.0</td>\n",
              "      <td>1.0</td>\n",
              "      <td>1.0</td>\n",
              "      <td>2.0</td>\n",
              "    </tr>\n",
              "    <tr>\n",
              "      <th>23</th>\n",
              "      <td>8.0</td>\n",
              "      <td>4.0</td>\n",
              "      <td>5.0</td>\n",
              "      <td>1.0</td>\n",
              "      <td>2.0</td>\n",
              "      <td>3.544656</td>\n",
              "      <td>7.0</td>\n",
              "      <td>3.0</td>\n",
              "      <td>1.0</td>\n",
              "      <td>4.0</td>\n",
              "    </tr>\n",
              "    <tr>\n",
              "      <th>24</th>\n",
              "      <td>1.0</td>\n",
              "      <td>1.0</td>\n",
              "      <td>1.0</td>\n",
              "      <td>1.0</td>\n",
              "      <td>2.0</td>\n",
              "      <td>1.000000</td>\n",
              "      <td>3.0</td>\n",
              "      <td>1.0</td>\n",
              "      <td>1.0</td>\n",
              "      <td>2.0</td>\n",
              "    </tr>\n",
              "  </tbody>\n",
              "</table>\n",
              "</div>"
            ],
            "text/plain": [
              "    clump_thickness  u_cell_size  u_cell_shape  marg_adhesion  epi_cell_size  \\\n",
              "22              3.0          1.0           1.0            1.0            2.0   \n",
              "23              8.0          4.0           5.0            1.0            2.0   \n",
              "24              1.0          1.0           1.0            1.0            2.0   \n",
              "\n",
              "    bare_nuclei  bland_chrom  norm_nucl  mitoses  class  \n",
              "22     1.000000          2.0        1.0      1.0    2.0  \n",
              "23     3.544656          7.0        3.0      1.0    4.0  \n",
              "24     1.000000          3.0        1.0      1.0    2.0  "
            ]
          },
          "metadata": {
            "tags": []
          },
          "execution_count": 10
        }
      ]
    },
    {
      "metadata": {
        "id": "09jpLsH0JeYH",
        "colab_type": "text"
      },
      "cell_type": "markdown",
      "source": [
        "\n",
        "\n",
        "---\n",
        "- Centralize e normalize os dados e separe 80% do conjunto para treino e 20% para testes. Faça uma divisão dos dados de maneira **estratificada**."
      ]
    },
    {
      "metadata": {
        "id": "iiBLAOIUk0m_",
        "colab_type": "code",
        "outputId": "9f5c6263-c7af-462e-9cf0-743550ef2acb",
        "colab": {
          "base_uri": "https://localhost:8080/",
          "height": 320
        }
      },
      "cell_type": "code",
      "source": [
        "# Normalizando os dados\n",
        "scaler = StandardScaler()\n",
        "df.iloc[:,:-1] = scaler.fit_transform(df.iloc[:,:-1])\n",
        "df.head()"
      ],
      "execution_count": 11,
      "outputs": [
        {
          "output_type": "execute_result",
          "data": {
            "text/html": [
              "<div>\n",
              "<style scoped>\n",
              "    .dataframe tbody tr th:only-of-type {\n",
              "        vertical-align: middle;\n",
              "    }\n",
              "\n",
              "    .dataframe tbody tr th {\n",
              "        vertical-align: top;\n",
              "    }\n",
              "\n",
              "    .dataframe thead th {\n",
              "        text-align: right;\n",
              "    }\n",
              "</style>\n",
              "<table border=\"1\" class=\"dataframe\">\n",
              "  <thead>\n",
              "    <tr style=\"text-align: right;\">\n",
              "      <th></th>\n",
              "      <th>clump_thickness</th>\n",
              "      <th>u_cell_size</th>\n",
              "      <th>u_cell_shape</th>\n",
              "      <th>marg_adhesion</th>\n",
              "      <th>epi_cell_size</th>\n",
              "      <th>bare_nuclei</th>\n",
              "      <th>bland_chrom</th>\n",
              "      <th>norm_nucl</th>\n",
              "      <th>mitoses</th>\n",
              "      <th>class</th>\n",
              "    </tr>\n",
              "  </thead>\n",
              "  <tbody>\n",
              "    <tr>\n",
              "      <th>0</th>\n",
              "      <td>0.206936</td>\n",
              "      <td>-0.699995</td>\n",
              "      <td>-0.743299</td>\n",
              "      <td>-0.633247</td>\n",
              "      <td>-0.549561</td>\n",
              "      <td>-0.706991</td>\n",
              "      <td>-0.179662</td>\n",
              "      <td>-0.611825</td>\n",
              "      <td>-0.343912</td>\n",
              "      <td>2.0</td>\n",
              "    </tr>\n",
              "    <tr>\n",
              "      <th>1</th>\n",
              "      <td>0.206936</td>\n",
              "      <td>0.283845</td>\n",
              "      <td>0.266875</td>\n",
              "      <td>0.768621</td>\n",
              "      <td>1.710106</td>\n",
              "      <td>1.793513</td>\n",
              "      <td>-0.179662</td>\n",
              "      <td>-0.284112</td>\n",
              "      <td>-0.343912</td>\n",
              "      <td>2.0</td>\n",
              "    </tr>\n",
              "    <tr>\n",
              "      <th>2</th>\n",
              "      <td>-0.503866</td>\n",
              "      <td>-0.699995</td>\n",
              "      <td>-0.743299</td>\n",
              "      <td>-0.633247</td>\n",
              "      <td>-0.549561</td>\n",
              "      <td>-0.429158</td>\n",
              "      <td>-0.179662</td>\n",
              "      <td>-0.611825</td>\n",
              "      <td>-0.343912</td>\n",
              "      <td>2.0</td>\n",
              "    </tr>\n",
              "    <tr>\n",
              "      <th>3</th>\n",
              "      <td>0.562336</td>\n",
              "      <td>1.595632</td>\n",
              "      <td>1.613773</td>\n",
              "      <td>-0.633247</td>\n",
              "      <td>-0.097628</td>\n",
              "      <td>0.126510</td>\n",
              "      <td>-0.179662</td>\n",
              "      <td>1.354454</td>\n",
              "      <td>-0.343912</td>\n",
              "      <td>2.0</td>\n",
              "    </tr>\n",
              "    <tr>\n",
              "      <th>4</th>\n",
              "      <td>-0.148465</td>\n",
              "      <td>-0.699995</td>\n",
              "      <td>-0.743299</td>\n",
              "      <td>0.067687</td>\n",
              "      <td>-0.549561</td>\n",
              "      <td>-0.706991</td>\n",
              "      <td>-0.179662</td>\n",
              "      <td>-0.611825</td>\n",
              "      <td>-0.343912</td>\n",
              "      <td>2.0</td>\n",
              "    </tr>\n",
              "  </tbody>\n",
              "</table>\n",
              "</div>"
            ],
            "text/plain": [
              "   clump_thickness  u_cell_size  u_cell_shape  marg_adhesion  epi_cell_size  \\\n",
              "0         0.206936    -0.699995     -0.743299      -0.633247      -0.549561   \n",
              "1         0.206936     0.283845      0.266875       0.768621       1.710106   \n",
              "2        -0.503866    -0.699995     -0.743299      -0.633247      -0.549561   \n",
              "3         0.562336     1.595632      1.613773      -0.633247      -0.097628   \n",
              "4        -0.148465    -0.699995     -0.743299       0.067687      -0.549561   \n",
              "\n",
              "   bare_nuclei  bland_chrom  norm_nucl   mitoses  class  \n",
              "0    -0.706991    -0.179662  -0.611825 -0.343912    2.0  \n",
              "1     1.793513    -0.179662  -0.284112 -0.343912    2.0  \n",
              "2    -0.429158    -0.179662  -0.611825 -0.343912    2.0  \n",
              "3     0.126510    -0.179662   1.354454 -0.343912    2.0  \n",
              "4    -0.706991    -0.179662  -0.611825 -0.343912    2.0  "
            ]
          },
          "metadata": {
            "tags": []
          },
          "execution_count": 11
        }
      ]
    },
    {
      "metadata": {
        "id": "sIXk8LgZjk7d",
        "colab_type": "code",
        "colab": {}
      },
      "cell_type": "code",
      "source": [
        "%%capture\n",
        "# Separando os dados de treino e de teste de maneira estratificada com 80% para treino\n",
        "x_train, x_test, y_train, y_test = train_test_split(df.drop(columns=['class']), df['class'], train_size=0.8,  stratify=df['class'])"
      ],
      "execution_count": 0,
      "outputs": []
    },
    {
      "metadata": {
        "id": "OntnUeLUmlwT",
        "colab_type": "code",
        "outputId": "4672465b-f4b0-4595-9600-e8d96145e38d",
        "colab": {
          "base_uri": "https://localhost:8080/",
          "height": 101
        }
      },
      "cell_type": "code",
      "source": [
        "# Checando se a divisão ficou correta\n",
        "print([len(k) for k in [x_train, x_test, y_train, y_test]])\n",
        "total = len(x_train)+len(x_test)\n",
        "print(f\"Treino: {len(x_train)/total}\\nTeste: {len(x_test)/total}\")"
      ],
      "execution_count": 13,
      "outputs": [
        {
          "output_type": "stream",
          "text": [
            "[559, 140, 559, 140]\n",
            "Treino: 0.7997138769670958\n",
            "Teste: 0.20028612303290416\n"
          ],
          "name": "stdout"
        }
      ]
    },
    {
      "metadata": {
        "id": "XPr0CmMwD5-w",
        "colab_type": "text"
      },
      "cell_type": "markdown",
      "source": [
        "\n",
        "\n",
        "---\n",
        "\n",
        "- Faça classificação no conjunto de testes utilizando 4 classificadores KNN, com K=3 e 15 e p=1 e 2 (distância de Minkowski/Euclidiana). Para cada classificador, calcule e exiba a matriz de confusão bem como a acurácia do classificador. **Para calcular a acurácia, utilize APENAS a matriz de confusão.**"
      ]
    },
    {
      "metadata": {
        "id": "xncpsPM0m9JU",
        "colab_type": "code",
        "colab": {}
      },
      "cell_type": "code",
      "source": [
        "# Aplica o KNN nos parâmetros especificados e imprime seus resultados\n",
        "def KNN(K, p, x_train, x_test, y_train, y_test):\n",
        "  # Treinando o modelo\n",
        "  model = KNeighborsClassifier(n_neighbors=K, p=p)\n",
        "  model.fit(x_train.values, y_train) \n",
        "  # Realizando a predição\n",
        "  y_pred = model.predict(x_test)    \n",
        "  \n",
        "  # Gerando a matriz de confusão\n",
        "  mat = confusion_matrix(y_test, y_pred)  \n",
        "  VN, FP, FN, VP = mat.ravel()\n",
        "  \n",
        "  # Calculando a acurácia\n",
        "  acc = (VP + VN)/(VN + FP + FN + VP)\n",
        "    \n",
        "  # Imprimindo a matriz de confusão\n",
        "  plot_confusion_matrix(mat)  \n",
        "  \n",
        "  #print(f\"VN={VN}\\nFP={FP}\\nFN={FN}\\nVP={VP}\")\n",
        "  print(f\"Classificador KNN com K={K} e p={p}, acurácia: {acc}.\")\n",
        "  print()"
      ],
      "execution_count": 0,
      "outputs": []
    },
    {
      "metadata": {
        "id": "INTv_f8kz2aA",
        "colab_type": "code",
        "colab": {}
      },
      "cell_type": "code",
      "source": [
        "# Fonte: https://www.tarekatwan.com/index.php/2017/12/how-to-plot-a-confusion-matrix-in-python/\n",
        "def plot_confusion_matrix(cm):\n",
        "  plt.clf()  \n",
        "  plt.grid(False)\n",
        "  plt.imshow(cm, interpolation='nearest', cmap=plt.cm.Pastel1)\n",
        "  classNames = ['Negativo', 'Positivo']\n",
        "  plt.title('Matriz de Confusão')\n",
        "  plt.ylabel('Classe Real')\n",
        "  plt.xlabel('Classe Predita')\n",
        "  tick_marks = np.arange(len(classNames))\n",
        "  plt.xticks(tick_marks, classNames, rotation=45)\n",
        "  plt.yticks(tick_marks, classNames)\n",
        "  s = [['VN','FP'], ['FN', 'VP']]\n",
        "  for i in range(2):\n",
        "      for j in range(2):\n",
        "          plt.text(j,i, str(s[i][j])+\" = \"+str(cm[i][j]))\n",
        "  plt.show()"
      ],
      "execution_count": 0,
      "outputs": []
    },
    {
      "metadata": {
        "id": "qjPwk5ZZpBRj",
        "colab_type": "code",
        "outputId": "036ae233-5639-4ce6-c82d-eacc0fa2495a",
        "colab": {
          "base_uri": "https://localhost:8080/",
          "height": 389
        }
      },
      "cell_type": "code",
      "source": [
        "KNN(3, 1, x_train, x_test, y_train, y_test)\n"
      ],
      "execution_count": 16,
      "outputs": [
        {
          "output_type": "display_data",
          "data": {
            "image/png": "[encoded data removed]",
            "text/plain": [
              "<Figure size 432x288 with 1 Axes>"
            ]
          },
          "metadata": {
            "tags": []
          }
        },
        {
          "output_type": "stream",
          "text": [
            "Classificador KNN com K=3 e p=1, acurácia: 0.9714285714285714.\n",
            "\n"
          ],
          "name": "stdout"
        }
      ]
    },
    {
      "metadata": {
        "id": "6N7ieJ6ss7BQ",
        "colab_type": "code",
        "outputId": "0b7f6c7f-0437-44c4-8274-46519c1e1181",
        "colab": {
          "base_uri": "https://localhost:8080/",
          "height": 389
        }
      },
      "cell_type": "code",
      "source": [
        "KNN(3, 2, x_train, x_test, y_train, y_test)\n"
      ],
      "execution_count": 17,
      "outputs": [
        {
          "output_type": "display_data",
          "data": {
            "image/png": "[encoded data removed]",
            "text/plain": [
              "<Figure size 432x288 with 1 Axes>"
            ]
          },
          "metadata": {
            "tags": []
          }
        },
        {
          "output_type": "stream",
          "text": [
            "Classificador KNN com K=3 e p=2, acurácia: 0.9714285714285714.\n",
            "\n"
          ],
          "name": "stdout"
        }
      ]
    },
    {
      "metadata": {
        "id": "T8kWeFoqs74k",
        "colab_type": "code",
        "outputId": "58243894-45f5-44cc-ea4b-567d7b193d8d",
        "colab": {
          "base_uri": "https://localhost:8080/",
          "height": 389
        }
      },
      "cell_type": "code",
      "source": [
        "KNN(15, 1, x_train, x_test, y_train, y_test)\n"
      ],
      "execution_count": 18,
      "outputs": [
        {
          "output_type": "display_data",
          "data": {
            "image/png": "[encoded data removed]",
            "text/plain": [
              "<Figure size 432x288 with 1 Axes>"
            ]
          },
          "metadata": {
            "tags": []
          }
        },
        {
          "output_type": "stream",
          "text": [
            "Classificador KNN com K=15 e p=1, acurácia: 0.9571428571428572.\n",
            "\n"
          ],
          "name": "stdout"
        }
      ]
    },
    {
      "metadata": {
        "id": "Tvtpxd4_s9fH",
        "colab_type": "code",
        "outputId": "5a6de839-50d2-465f-a8ee-618043663ee0",
        "colab": {
          "base_uri": "https://localhost:8080/",
          "height": 389
        }
      },
      "cell_type": "code",
      "source": [
        "KNN(15, 2, x_train, x_test, y_train, y_test)"
      ],
      "execution_count": 19,
      "outputs": [
        {
          "output_type": "display_data",
          "data": {
            "image/png": "[encoded data removed]",
            "text/plain": [
              "<Figure size 432x288 with 1 Axes>"
            ]
          },
          "metadata": {
            "tags": []
          }
        },
        {
          "output_type": "stream",
          "text": [
            "Classificador KNN com K=15 e p=2, acurácia: 0.9571428571428572.\n",
            "\n"
          ],
          "name": "stdout"
        }
      ]
    },
    {
      "metadata": {
        "id": "I-xM0b4GM1Z4",
        "colab_type": "text"
      },
      "cell_type": "markdown",
      "source": [
        "\n",
        "\n",
        "---\n",
        "Agora vamos analisar um problema de classificação não binário. Para isso, vamos utilizar o conjunto Iris. Repetindo os passos anteriores:\n",
        "- Carregue o conjunto Iris\n",
        "- Centralize e normalize os dados\n",
        "- Separe o conjunto, de maneira **NÃO** estratificada, em 50% treino e 50% teste (a ideia é que o classificador tenha um erro maior)\n",
        "- Utilize um classificador KNN com K=1 para predizer o conjunto de teste. Essa predição será utilizado posteriormente.\n"
      ]
    },
    {
      "metadata": {
        "id": "qR3G6nwVM2s4",
        "colab_type": "code",
        "colab": {}
      },
      "cell_type": "code",
      "source": [
        "from sklearn.datasets import load_iris\n",
        "\n",
        "x, y = load_iris(return_X_y=True)\n",
        "data = load_iris()"
      ],
      "execution_count": 0,
      "outputs": []
    },
    {
      "metadata": {
        "id": "349TkBVRwp1b",
        "colab_type": "code",
        "colab": {}
      },
      "cell_type": "code",
      "source": [
        "# Normalizando os dados\n",
        "scaler = StandardScaler()\n",
        "x = scaler.fit_transform(x)"
      ],
      "execution_count": 0,
      "outputs": []
    },
    {
      "metadata": {
        "id": "NXB35irExYGo",
        "colab_type": "code",
        "colab": {}
      },
      "cell_type": "code",
      "source": [
        "%%capture\n",
        "# Separando em treino e teste\n",
        "x_train, x_test, y_train, y_test = train_test_split(x, y, random_state=0, train_size=0.5)"
      ],
      "execution_count": 0,
      "outputs": []
    },
    {
      "metadata": {
        "id": "yBux4VYuyFWQ",
        "colab_type": "code",
        "colab": {}
      },
      "cell_type": "code",
      "source": [
        "# KNN para K=1 e p padrão\n",
        "model = KNeighborsClassifier(n_neighbors=1)\n",
        "model.fit(x_train, y_train) \n",
        "y_pred = model.predict(x_test)   "
      ],
      "execution_count": 0,
      "outputs": []
    },
    {
      "metadata": {
        "id": "3mdi9Mf0QGq8",
        "colab_type": "text"
      },
      "cell_type": "markdown",
      "source": [
        "\n",
        "\n",
        "---\n",
        "\n",
        "- Mostre a matriz de confusão do conjunto de teste e em seguida, para cada variável do conjunto, mostre sua matriz de confusão binária.\n",
        "  - Dica: Pesquise sobre o método `numpy.delete`"
      ]
    },
    {
      "metadata": {
        "id": "FmjLo5KS-sbz",
        "colab_type": "code",
        "outputId": "db8d9590-b4ac-4adc-9597-28d5742cb289",
        "colab": {
          "base_uri": "https://localhost:8080/",
          "height": 291
        }
      },
      "cell_type": "code",
      "source": [
        "var = []\n",
        "mat = confusion_matrix(y_test, y_pred)\n",
        "sns.heatmap(mat, square=True, annot=True, fmt='d', cbar=False,\n",
        "            xticklabels=data.target_names,\n",
        "            yticklabels=data.target_names)\n",
        "plt.xlabel('Classe Predita')\n",
        "plt.ylabel('Classe Real');"
      ],
      "execution_count": 24,
      "outputs": [
        {
          "output_type": "display_data",
          "data": {
            "image/png": "[encoded data removed]",
            "text/plain": [
              "<Figure size 432x288 with 1 Axes>"
            ]
          },
          "metadata": {
            "tags": []
          }
        }
      ]
    },
    {
      "metadata": {
        "id": "M-3uPd6MQTWT",
        "colab_type": "code",
        "outputId": "1b00ce9d-011c-4b01-ec80-9958294499f7",
        "colab": {
          "base_uri": "https://localhost:8080/",
          "height": 361
        }
      },
      "cell_type": "code",
      "source": [
        "# Variável 1 - Setosa\n",
        "mat1 = np.copy(mat)\n",
        "\n",
        "# Coluna 1 = Coluna 1 + Coluna 2\n",
        "mat1[:,1] = mat[:,1] + mat[:,2]\n",
        "# Linha 1 = Linha 1 + Linha 2\n",
        "mat1[1,:] = mat1[1,:] + mat1[2, :]\n",
        "# Deleta a Linha 2\n",
        "mat1 = np.delete(mat1, 2, 0)\n",
        "# Deleta a Coluna 2\n",
        "mat1 = np.delete(mat1, 2, 1)\n",
        "\n",
        "# Obtém VP, FP, FN, VN da matriz\n",
        "VP = mat1[0,0]\n",
        "FP = mat1[0,1]\n",
        "FN = mat1[1,0]\n",
        "VN = mat1[1,1]\n",
        "\n",
        "# Imprime a matriz de confusão binária\n",
        "print(\"Variável 1 - Setosa\")\n",
        "plot_confusion_matrix(np.array([VN, FP, FN, VP]).reshape(2,2))\n",
        "\n",
        "var.append([VP, FP, FN, VN])"
      ],
      "execution_count": 25,
      "outputs": [
        {
          "output_type": "stream",
          "text": [
            "Variável 1 - Setosa\n"
          ],
          "name": "stdout"
        },
        {
          "output_type": "display_data",
          "data": {
            "image/png": "[encoded data removed]",
            "text/plain": [
              "<Figure size 432x288 with 1 Axes>"
            ]
          },
          "metadata": {
            "tags": []
          }
        }
      ]
    },
    {
      "metadata": {
        "id": "vCJkY80a6vQw",
        "colab_type": "code",
        "outputId": "8de0ce6a-67a5-428a-a738-3986efb5312a",
        "colab": {
          "base_uri": "https://localhost:8080/",
          "height": 361
        }
      },
      "cell_type": "code",
      "source": [
        "# Variável 2 - Versicolor\n",
        "mat2 = np.copy(mat)\n",
        "\n",
        "# Coluna 2 = Coluna 0 + Coluna 2\n",
        "mat2[:,2] = mat[:,0] + mat[:,2]\n",
        "# Linha 2 = Linha 0 + Linha 2\n",
        "mat2[2,:] = mat2[0,:] + mat2[2, :]\n",
        "# Deleta a Linha 0 \n",
        "mat2 = np.delete(mat2, 0, 0)\n",
        "# Deleta a Coluna 0 \n",
        "mat2 = np.delete(mat2, 0, 1)\n",
        "\n",
        "# Obtém VP, FP, FN, VN da matriz\n",
        "VP = mat2[0,0]\n",
        "FP = mat2[0,1]\n",
        "FN = mat2[1,0]\n",
        "VN = mat2[1,1]\n",
        "\n",
        "# Imprime a matriz de confusão binária\n",
        "print(\"Variável 2 - Versicolor\")\n",
        "plot_confusion_matrix(np.array([VN, FP, FN, VP]).reshape(2,2))\n",
        "\n",
        "var.append([VP, FP, FN, VN])"
      ],
      "execution_count": 26,
      "outputs": [
        {
          "output_type": "stream",
          "text": [
            "Variável 2 - Versicolor\n"
          ],
          "name": "stdout"
        },
        {
          "output_type": "display_data",
          "data": {
            "image/png": "[encoded data removed]",
            "text/plain": [
              "<Figure size 432x288 with 1 Axes>"
            ]
          },
          "metadata": {
            "tags": []
          }
        }
      ]
    },
    {
      "metadata": {
        "id": "Z1yAx0C28bA8",
        "colab_type": "code",
        "outputId": "27cf91ad-8c12-4727-95fc-781a11fa5023",
        "colab": {
          "base_uri": "https://localhost:8080/",
          "height": 361
        }
      },
      "cell_type": "code",
      "source": [
        "# Variável 3 - Virginica\n",
        "mat3 = np.copy(mat)\n",
        "\n",
        "# Coluna 1 = Coluna 0 + Coluna 1\n",
        "mat3[:,1] = mat[:,0] + mat[:,1]\n",
        "# Linha 1 = Linha 0 + Linha 1\n",
        "mat3[1,:] = mat3[0,:] + mat3[1, :]\n",
        "# Deleta a Linha 0 \n",
        "mat3 = np.delete(mat3, 0, 0)\n",
        "# Deleta a Coluna 0\n",
        "mat3 = np.delete(mat3, 0, 1)\n",
        "\n",
        "# Obtém VP, FP, FN, VN da matriz\n",
        "VP = mat3[1,1]\n",
        "FP = mat3[1,0]\n",
        "FN = mat3[0,1]\n",
        "VN = mat3[0,0]\n",
        "\n",
        "# Imprime a matriz de confusão binária\n",
        "print(\"Variável 3 - Virginica\")\n",
        "plot_confusion_matrix(np.array([VN, FP, FN, VP]).reshape(2,2))\n",
        "\n",
        "var.append([VP, FP, FN, VN])"
      ],
      "execution_count": 27,
      "outputs": [
        {
          "output_type": "stream",
          "text": [
            "Variável 3 - Virginica\n"
          ],
          "name": "stdout"
        },
        {
          "output_type": "display_data",
          "data": {
            "image/png": "[encoded data removed]",
            "text/plain": [
              "<Figure size 432x288 with 1 Axes>"
            ]
          },
          "metadata": {
            "tags": []
          }
        }
      ]
    },
    {
      "metadata": {
        "id": "RZT3vF7uR3VJ",
        "colab_type": "text"
      },
      "cell_type": "markdown",
      "source": [
        "\n",
        "\n",
        "---\n",
        "\n",
        "- Utilizando as matrizes de confusão binárias calculadas acima, calcule o **Recall** e **Precisão** de cada variável do conjunto.\n",
        "  - Dica 1: Lembre-se que ao calcular a matriz de confusão binária para cada classe, obtemos os valores VP, FP, FN e VN.\n",
        "  - Dica 2: Lembre-se que Recall é calculado por $\\frac{VP}{VP+FN}$ e Precisão por  $\\frac{VP}{VP+FP}$."
      ]
    },
    {
      "metadata": {
        "id": "guT6-yJ-S6uI",
        "colab_type": "code",
        "colab": {}
      },
      "cell_type": "code",
      "source": [
        "# Precision\n",
        "def precision(VP, FP, FN, VN):\n",
        "  return (VP)/(VP+FP)\n",
        "\n",
        "# Recall\n",
        "def recall(VP, FP, FN, VN):\n",
        "  return (VP)/(VP+FN) "
      ],
      "execution_count": 0,
      "outputs": []
    },
    {
      "metadata": {
        "id": "Vby-BjtD1cBm",
        "colab_type": "code",
        "colab": {}
      },
      "cell_type": "code",
      "source": [
        "def display(i, var, VP, FP, FN, VN):\n",
        "  print(f\"Variável {i}: {var.capitalize()}\")\n",
        "  print(f\"Recall {recall(VP, FP, FN, VN)}\")\n",
        "  print(f\"Precision {precision(VP, FP, FN, VN)}\")\n",
        "  print()"
      ],
      "execution_count": 0,
      "outputs": []
    },
    {
      "metadata": {
        "id": "uVXoHJru-4gv",
        "colab_type": "code",
        "outputId": "7faf8825-00f2-4f20-c357-4d9496eb758c",
        "colab": {
          "base_uri": "https://localhost:8080/",
          "height": 353
        }
      },
      "cell_type": "code",
      "source": [
        "for i in range(3):\n",
        "  display(i, data.target_names[i], var[i][0], var[i][1], var[i][2], var[i][3])"
      ],
      "execution_count": 30,
      "outputs": [
        {
          "output_type": "stream",
          "text": [
            "Variável 0: Setosa\n",
            "Recall 1.0\n",
            "Precision 1.0\n",
            "\n",
            "Variável 1: Versicolor\n",
            "Recall 0.8285714285714286\n",
            "Precision 0.9666666666666667\n",
            "\n",
            "Variável 2: Virginica\n",
            "Recall 0.9473684210526315\n",
            "Precision 0.75\n",
            "\n"
          ],
          "name": "stdout"
        }
      ]
    },
    {
      "metadata": {
        "id": "APzuX9F9HNGB",
        "colab_type": "text"
      },
      "cell_type": "markdown",
      "source": [
        "\n",
        "\n",
        "---\n",
        "Considere o conjunto de dados abaixo, onde são representados um conjunto de $n$ pontos que podem ser classificados em duas classes: verde ou azul. **Todo** o conjunto pode ser visto na imagem abaixo. O ponto preto $q$ é um ponto de consulta, cuja classe é desconhecida. Suponha que foi usado um classificador do tipo KNN com distância euclidiana para classificar esse ponto.\n",
        "\n",
        "\n",
        "![](https://drive.google.com/uc?export=download&id=1WuZT3F8BT6CSOoUd1WlAnQCKzcaxORNh)\n",
        "\n",
        "\n",
        "- Qual a saída desse classificador para K=3?"
      ]
    },
    {
      "metadata": {
        "id": "7hcbOzE_KHQC",
        "colab_type": "text"
      },
      "cell_type": "markdown",
      "source": [
        "O resultado desse classificador para o KNN com K=3 será a classe azul."
      ]
    },
    {
      "metadata": {
        "id": "XeDZ96YeJut7",
        "colab_type": "text"
      },
      "cell_type": "markdown",
      "source": [
        "\n",
        "\n",
        "---\n",
        "\n",
        "- E para K=9?"
      ]
    },
    {
      "metadata": {
        "id": "pS8FZKxtKH0F",
        "colab_type": "text"
      },
      "cell_type": "markdown",
      "source": [
        "O resultado desse classificador para o KNN com K=9 será a classe verde."
      ]
    },
    {
      "metadata": {
        "id": "llhVvRuqJ053",
        "colab_type": "text"
      },
      "cell_type": "markdown",
      "source": [
        "\n",
        "\n",
        "---\n",
        "\n",
        " - E para o caso extremo de K=$n$? A posição de $q$ no espaço interfere nesse resultado? Justifique."
      ]
    },
    {
      "metadata": {
        "id": "BHP1oCXHKIMx",
        "colab_type": "text"
      },
      "cell_type": "markdown",
      "source": [
        "Em um caso extremo de K, em que K >= 7 para este dataset,  independente da posição de $q$ o resultado convergirá para a classe majoritária no conjunto de dados, portanto o resultado do classificador também será verde."
      ]
    }
  ]
}