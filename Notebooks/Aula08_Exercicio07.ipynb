{
  "nbformat": 4,
  "nbformat_minor": 0,
  "metadata": {
    "colab": {
      "name": "Aula08-Exercicio07.ipynb",
      "version": "0.3.2",
      "provenance": [],
      "collapsed_sections": []
    },
    "kernelspec": {
      "name": "python3",
      "display_name": "Python 3"
    }
  },
  "cells": [
    {
      "metadata": {
        "id": "-1PHcVpNKCR3",
        "colab_type": "text"
      },
      "cell_type": "markdown",
      "source": [
        "# Aula 08 - Exercício 07\n",
        "## Árvores de decisão e Naive-Bayes\n",
        "### Alunos:\n",
        "-  Bruno Gomes Coelho - 9791160\n",
        "-  Bruno Mendes da Costa - 9779433 "
      ]
    },
    {
      "metadata": {
        "id": "8S8YtKLqsPL6",
        "colab_type": "code",
        "outputId": "e6191d14-2bc2-4ee5-c29f-ca9cb76696a2",
        "colab": {
          "base_uri": "https://localhost:8080/",
          "height": 208
        }
      },
      "cell_type": "code",
      "source": [
        "!wget https://raw.githubusercontent.com/BrunoxD/machineLearning/master/aula8/data.csv"
      ],
      "execution_count": 11,
      "outputs": [
        {
          "output_type": "stream",
          "text": [
            "--2019-04-25 14:28:52--  https://raw.githubusercontent.com/BrunoxD/machineLearning/master/aula8/data.csv\n",
            "Resolving raw.githubusercontent.com (raw.githubusercontent.com)... 151.101.0.133, 151.101.64.133, 151.101.128.133, ...\n",
            "Connecting to raw.githubusercontent.com (raw.githubusercontent.com)|151.101.0.133|:443... connected.\n",
            "HTTP request sent, awaiting response... 200 OK\n",
            "Length: 55561 (54K) [text/plain]\n",
            "Saving to: ‘data.csv.2’\n",
            "\n",
            "\rdata.csv.2            0%[                    ]       0  --.-KB/s               \rdata.csv.2          100%[===================>]  54.26K  --.-KB/s    in 0.01s   \n",
            "\n",
            "2019-04-25 14:28:52 (3.72 MB/s) - ‘data.csv.2’ saved [55561/55561]\n",
            "\n"
          ],
          "name": "stdout"
        }
      ]
    },
    {
      "metadata": {
        "id": "jIT_5dWGsYsp",
        "colab_type": "code",
        "outputId": "9121e8a3-9d4e-40bb-d838-3e2bb875c1cf",
        "colab": {
          "base_uri": "https://localhost:8080/",
          "height": 225
        }
      },
      "cell_type": "code",
      "source": [
        "!pip3 install --upgrade seaborn"
      ],
      "execution_count": 12,
      "outputs": [
        {
          "output_type": "stream",
          "text": [
            "Requirement already up-to-date: seaborn in /usr/local/lib/python3.6/dist-packages (0.9.0)\n",
            "Requirement already satisfied, skipping upgrade: numpy>=1.9.3 in /usr/local/lib/python3.6/dist-packages (from seaborn) (1.16.3)\n",
            "Requirement already satisfied, skipping upgrade: matplotlib>=1.4.3 in /usr/local/lib/python3.6/dist-packages (from seaborn) (3.0.3)\n",
            "Requirement already satisfied, skipping upgrade: scipy>=0.14.0 in /usr/local/lib/python3.6/dist-packages (from seaborn) (1.2.1)\n",
            "Requirement already satisfied, skipping upgrade: pandas>=0.15.2 in /usr/local/lib/python3.6/dist-packages (from seaborn) (0.24.2)\n",
            "Requirement already satisfied, skipping upgrade: kiwisolver>=1.0.1 in /usr/local/lib/python3.6/dist-packages (from matplotlib>=1.4.3->seaborn) (1.0.1)\n",
            "Requirement already satisfied, skipping upgrade: cycler>=0.10 in /usr/local/lib/python3.6/dist-packages (from matplotlib>=1.4.3->seaborn) (0.10.0)\n",
            "Requirement already satisfied, skipping upgrade: python-dateutil>=2.1 in /usr/local/lib/python3.6/dist-packages (from matplotlib>=1.4.3->seaborn) (2.5.3)\n",
            "Requirement already satisfied, skipping upgrade: pyparsing!=2.0.4,!=2.1.2,!=2.1.6,>=2.0.1 in /usr/local/lib/python3.6/dist-packages (from matplotlib>=1.4.3->seaborn) (2.4.0)\n",
            "Requirement already satisfied, skipping upgrade: pytz>=2011k in /usr/local/lib/python3.6/dist-packages (from pandas>=0.15.2->seaborn) (2018.9)\n",
            "Requirement already satisfied, skipping upgrade: setuptools in /usr/local/lib/python3.6/dist-packages (from kiwisolver>=1.0.1->matplotlib>=1.4.3->seaborn) (40.9.0)\n",
            "Requirement already satisfied, skipping upgrade: six in /usr/local/lib/python3.6/dist-packages (from cycler>=0.10->matplotlib>=1.4.3->seaborn) (1.12.0)\n"
          ],
          "name": "stdout"
        }
      ]
    },
    {
      "metadata": {
        "id": "30yptxnWKCR7",
        "colab_type": "text"
      },
      "cell_type": "markdown",
      "source": [
        "---\n",
        "O dataset *Statlog (German Credit Data) Data Set* é um dataset que visa classificar o risco de crédito de pessoas através de um conjunto de atributos. A classificação é feita em risco \"Good\" (bom - baixo risco) ou risco \"Bad\" (ruim - alto risco). Ao todo são 24 atributos numéricos e 1 atributo nominal, que representa a classe.\n",
        "\n",
        "Esse dataset também apresenta o que chamamos de *matriz de custo*. Essa matriz é similar à matriz de confusão para o caso binário, porém, os elementos dessa matriz representam o custo associado com cada tipo de classificação. \n",
        "\n",
        "A matriz de custo desse dataset é dada abaixo:\n",
        "\n",
        "|                  x | Good (Predito) | Bad (Predito) |\n",
        "|-------------------:|------------:|-----------:|\n",
        "| **Good (Real)** |           0 |          1 |\n",
        "|  **Bad (Real)** |           5 |          0 |\n",
        "\n",
        "A análsie dessa matriz pode ser feita da seguinte maneira: se uma classe real \"Good\" for predita como \"Bad\", existe um custo 1 associado. Todavia, se uma classe real \"Bad\" for predita como \"Good\", o custo associado é 5. Ou seja, um tipo de erro é melhor (menos custoso) do que o outro. \n",
        "\n",
        "O dataset pode ser carregado através do arquivo **data.csv**.\n"
      ]
    },
    {
      "metadata": {
        "id": "MFbgiLA9sl7H",
        "colab_type": "code",
        "colab": {}
      },
      "cell_type": "code",
      "source": [
        "import pandas as pd\n",
        "import numpy as np\n",
        "\n",
        "from sklearn.tree import DecisionTreeClassifier\n",
        "from sklearn.model_selection import cross_val_score\n",
        "from sklearn.naive_bayes import GaussianNB\n",
        "\n",
        "from sklearn.model_selection import StratifiedKFold\n",
        "from sklearn.metrics import confusion_matrix\n",
        "\n",
        "import matplotlib.pyplot as plt\n",
        "import seaborn as sns\n",
        "sns.set()\n"
      ],
      "execution_count": 0,
      "outputs": []
    },
    {
      "metadata": {
        "id": "R0WULhFnKCR-",
        "colab_type": "text"
      },
      "cell_type": "markdown",
      "source": [
        "---\n",
        "### Questão 01. \n",
        "\n",
        "Carregue o dataset e separe o conjunto em atributos e classe (X e y)."
      ]
    },
    {
      "metadata": {
        "id": "QM9siV_HKCSB",
        "colab_type": "code",
        "colab": {}
      },
      "cell_type": "code",
      "source": [
        "df = pd.read_csv(\"data.csv\")\n",
        "\n",
        "x = df.drop(columns=\"class\")\n",
        "y = df[[\"class\"]]"
      ],
      "execution_count": 0,
      "outputs": []
    },
    {
      "metadata": {
        "id": "D_CHrSUFKCSK",
        "colab_type": "text"
      },
      "cell_type": "markdown",
      "source": [
        "---\n",
        "### Questão 02.\n",
        "Utilize 10-fold cross-validation estratificado para estimar a acurácia do classificador `sklearn.tree.DecisionTreeClassifier` com `criterion=\"entropy\"`."
      ]
    },
    {
      "metadata": {
        "id": "khHg7g7duDf2",
        "colab_type": "code",
        "colab": {}
      },
      "cell_type": "code",
      "source": [
        "def print_results(results):\n",
        "    print(\"Média das acurácias: \", results.mean(), \"\\tDesvio Padrão: \", results.std())"
      ],
      "execution_count": 0,
      "outputs": []
    },
    {
      "metadata": {
        "id": "RJnq4EQuKCSO",
        "colab_type": "code",
        "outputId": "85eeec14-c482-4d5f-cf0b-3293e0b7db59",
        "colab": {
          "base_uri": "https://localhost:8080/",
          "height": 34
        }
      },
      "cell_type": "code",
      "source": [
        "folds = StratifiedKFold(n_splits=10, random_state=42)\n",
        "tree_results = cross_val_score(DecisionTreeClassifier(criterion=\"entropy\"), x, y[\"class\"], \n",
        "                               cv=folds)\n",
        "    \n",
        "print_results(tree_results)"
      ],
      "execution_count": 16,
      "outputs": [
        {
          "output_type": "stream",
          "text": [
            "Média das acurácias:  0.687 \tDesvio Padrão:  0.032878564445547175\n"
          ],
          "name": "stdout"
        }
      ]
    },
    {
      "metadata": {
        "id": "go_-atKbKCSY",
        "colab_type": "text"
      },
      "cell_type": "markdown",
      "source": [
        "---\n",
        "### Questão 03.\n",
        "Agora utilize 10-fold cross-validation estratificado para estimar a acurácia do classificador `sklearn.naive_bayes.GaussianNB`"
      ]
    },
    {
      "metadata": {
        "id": "GiArL3LBKCSc",
        "colab_type": "code",
        "outputId": "03ad071c-1f5c-4bf9-b8b8-7542b6ade762",
        "colab": {
          "base_uri": "https://localhost:8080/",
          "height": 34
        }
      },
      "cell_type": "code",
      "source": [
        "folds = StratifiedKFold(n_splits=10, random_state=42)\n",
        "naive_results = cross_val_score(GaussianNB(), x, y[\"class\"], cv=folds)\n",
        "print_results(naive_results)"
      ],
      "execution_count": 17,
      "outputs": [
        {
          "output_type": "stream",
          "text": [
            "Média das acurácias:  0.73 \tDesvio Padrão:  0.05422176684690384\n"
          ],
          "name": "stdout"
        }
      ]
    },
    {
      "metadata": {
        "id": "F8PIoGN_KCSk",
        "colab_type": "text"
      },
      "cell_type": "markdown",
      "source": [
        "---\n",
        "### Questão 04.\n",
        "Repita o procedimento da *Questão 02*, mas agora **calcule e imprima** a matriz de confusão do dataset, bem como a **acurácia calculada através da matriz de confusão** (o valor deve ser o mesmo do calculado anteriormente).\n",
        "\n",
        "Para isso, inicialize uma matriz $2\\times2$ com valores 0 e some, para cada fold, a matriz de confusão no conjunto de teste. Essa matriz irá funcionar basicamente como um acumulador e, ao final das 10 execuções, ela representará a matriz de confusão no conjunto como um todo."
      ]
    },
    {
      "metadata": {
        "id": "hc9xG1-xyppY",
        "colab_type": "code",
        "colab": {}
      },
      "cell_type": "code",
      "source": [
        "# Fonte: https://www.tarekatwan.com/index.php/2017/12/how-to-plot-a-confusion-matrix-in-python/\n",
        "def plot_confusion_matrix(cm):\n",
        "    class_names = ['Bad', 'Good']\n",
        "    sns.heatmap(cm, square=True, annot=True, fmt=\"d\", cbar=False, xticklabels=class_names, yticklabels=class_names)\n",
        "    plt.title('Matriz de Confusão')\n",
        "    plt.ylabel('Classe Real')\n",
        "    plt.xlabel('Classe Predita')\n",
        "    \"\"\"\n",
        "    plt.clf()  \n",
        "    plt.grid(False)\n",
        "    plt.imshow(cm, interpolation='nearest', cmap=plt.cm.Pastel1)\n",
        "    \n",
        "\n",
        "    tick_marks = np.arange(len(classNames))\n",
        "    plt.xticks(tick_marks, classNames, rotation=45)\n",
        "    plt.yticks(tick_marks, classNames)\n",
        "    s = [['VN','FP'], ['FN', 'VP']]\n",
        "    for i in range(2):\n",
        "        for j in range(2):\n",
        "            plt.text(j,i, str(s[i][j])+\" = \"+str(cm[i][j]))\n",
        "    \"\"\"\n",
        "    plt.show()"
      ],
      "execution_count": 0,
      "outputs": []
    },
    {
      "metadata": {
        "id": "E_L6rY0CudM6",
        "colab_type": "code",
        "colab": {}
      },
      "cell_type": "code",
      "source": [
        "def calculate_matrix(model, name):\n",
        "        \n",
        "    matrix = np.zeros((2, 2))\n",
        "    folds = StratifiedKFold(n_splits=10, random_state=42)\n",
        "    for trn_idx, val_idx in folds.split(x, y):\n",
        "        clf = model.fit(x.loc[trn_idx], y.loc[trn_idx][\"class\"])\n",
        "        preds = clf.predict(x.loc[val_idx])\n",
        "        matrix += confusion_matrix(y.loc[val_idx].values, preds)\n",
        "    \n",
        "    plot_confusion_matrix(matrix.astype(int))\n",
        "    print(\"Acurácia para \", name)\n",
        "    print((matrix[0][0] + matrix[1][1]) / matrix.sum())\n",
        "    return matrix\n",
        "\n"
      ],
      "execution_count": 0,
      "outputs": []
    },
    {
      "metadata": {
        "id": "5hUehgvvKCSm",
        "colab_type": "code",
        "outputId": "6196f1b3-0748-47b5-e733-329bad5dce08",
        "colab": {
          "base_uri": "https://localhost:8080/",
          "height": 336
        }
      },
      "cell_type": "code",
      "source": [
        "tree_matrix = calculate_matrix(DecisionTreeClassifier(criterion=\"entropy\"), \n",
        "                              \"Árvore de Decisão\")\n"
      ],
      "execution_count": 20,
      "outputs": [
        {
          "output_type": "display_data",
          "data": {
            "image/png": "[encoded data removed]",
            "text/plain": [
              "<Figure size 432x288 with 1 Axes>"
            ]
          },
          "metadata": {
            "tags": []
          }
        },
        {
          "output_type": "stream",
          "text": [
            "Acurácia para  Árvore de Decisão\n",
            "0.697\n"
          ],
          "name": "stdout"
        }
      ]
    },
    {
      "metadata": {
        "id": "f1C8qT933yob",
        "colab_type": "text"
      },
      "cell_type": "markdown",
      "source": [
        "Conforme podemos observar, temos o mesmo valor de acurácia pela matriz de confusão como pelo cálculo normal de acurácia."
      ]
    },
    {
      "metadata": {
        "id": "aSOj9PLOKCSv",
        "colab_type": "text"
      },
      "cell_type": "markdown",
      "source": [
        "---\n",
        "### Questão 05.\n",
        "Repita o procedimento da *Questão 04*, mas ao invés de usar o classificado `sklearn.tree.DecisionTreeClassifier`, utilize `sklearn.naive_bayes.GaussianNB`"
      ]
    },
    {
      "metadata": {
        "id": "i4Dgw-qSKCSw",
        "colab_type": "code",
        "outputId": "a1c013ac-e2c9-43b3-ea78-1f99072a570f",
        "colab": {
          "base_uri": "https://localhost:8080/",
          "height": 336
        }
      },
      "cell_type": "code",
      "source": [
        "naive_matrix = calculate_matrix(GaussianNB(), \n",
        "                              \"Naive Bayes\")\n"
      ],
      "execution_count": 21,
      "outputs": [
        {
          "output_type": "display_data",
          "data": {
            "image/png": "[encoded data removed]",
            "text/plain": [
              "<Figure size 432x288 with 1 Axes>"
            ]
          },
          "metadata": {
            "tags": []
          }
        },
        {
          "output_type": "stream",
          "text": [
            "Acurácia para  Naive Bayes\n",
            "0.73\n"
          ],
          "name": "stdout"
        }
      ]
    },
    {
      "metadata": {
        "id": "gRauFSKX381q",
        "colab_type": "text"
      },
      "cell_type": "markdown",
      "source": [
        "Novamente, conforme podemos observar, temos o mesmo valor de acurácia pela matriz de confusão como pelo cálculo normal de acurácia."
      ]
    },
    {
      "metadata": {
        "id": "Lbmi2QQdKCS5",
        "colab_type": "text"
      },
      "cell_type": "markdown",
      "source": [
        "---\n",
        "\n",
        "### Questão 06.\n",
        "Calcule o custo associado a cada classificador e defina qual deles é o melhor. Para isso utilize as matrizes de confusão calculadas nas questões 04 e 05 e a matriz de custo especificada na descrição do dataset."
      ]
    },
    {
      "metadata": {
        "id": "_SFV7NasKCS8",
        "colab_type": "code",
        "outputId": "fdb0b081-7050-430d-889a-b2f49fb00334",
        "colab": {
          "base_uri": "https://localhost:8080/",
          "height": 52
        }
      },
      "cell_type": "code",
      "source": [
        "# Invertendo a matriz \"original\" de custo, dado que consideramos Bad/Good\n",
        "cost = np.array([[0, 5], [1, 0]])\n",
        "cost"
      ],
      "execution_count": 22,
      "outputs": [
        {
          "output_type": "execute_result",
          "data": {
            "text/plain": [
              "array([[0, 5],\n",
              "       [1, 0]])"
            ]
          },
          "metadata": {
            "tags": []
          },
          "execution_count": 22
        }
      ]
    },
    {
      "metadata": {
        "id": "6PSoTI5G4jSj",
        "colab_type": "code",
        "outputId": "1f357512-d226-4bc7-e462-bedb12ca4341",
        "colab": {
          "base_uri": "https://localhost:8080/",
          "height": 104
        }
      },
      "cell_type": "code",
      "source": [
        "print(cost*tree_matrix, \"\\n\\n\")\n",
        "print(\"Custo total para árvore de decisão:\", (cost*tree_matrix).sum())"
      ],
      "execution_count": 23,
      "outputs": [
        {
          "output_type": "stream",
          "text": [
            "[[  0. 765.]\n",
            " [150.   0.]] \n",
            "\n",
            "\n",
            "Custo total para árvore de decisão: 915.0\n"
          ],
          "name": "stdout"
        }
      ]
    },
    {
      "metadata": {
        "id": "mHMYfacC5TLq",
        "colab_type": "code",
        "outputId": "716414af-37ab-4b2b-b32f-39970066466a",
        "colab": {
          "base_uri": "https://localhost:8080/",
          "height": 104
        }
      },
      "cell_type": "code",
      "source": [
        "print(cost*naive_matrix, \"\\n\\n\")\n",
        "print(\"Custo total para decisão bayesiana:\", (cost*naive_matrix).sum())"
      ],
      "execution_count": 24,
      "outputs": [
        {
          "output_type": "stream",
          "text": [
            "[[  0. 570.]\n",
            " [156.   0.]] \n",
            "\n",
            "\n",
            "Custo total para decisão bayesiana: 726.0\n"
          ],
          "name": "stdout"
        }
      ]
    },
    {
      "metadata": {
        "id": "m3DqXpziqYv4",
        "colab_type": "text"
      },
      "cell_type": "markdown",
      "source": [
        "---\n",
        "### Questão 07.\n",
        "Utilize o software Weka (https://www.cs.waikato.ac.nz/~ml/weka/) e realize classificação utilizando a árvore de decisão  J48. Reporte a acurácia do classificador sem pruning, com pruning=0.25 e pruning=0.1. "
      ]
    },
    {
      "metadata": {
        "id": "2YbDO9_BwWSp",
        "colab_type": "text"
      },
      "cell_type": "markdown",
      "source": [
        "Acurácia  \n",
        "Sem Pruning = 70.4%  \n",
        "Pruning 0.25 = 73.9%  \n",
        "Pruning 0.10 = 72.5%  \n",
        "\n",
        "---\n",
        "\n"
      ]
    }
  ]
}